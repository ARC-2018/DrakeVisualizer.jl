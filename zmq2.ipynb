{
 "cells": [
  {
   "cell_type": "code",
   "execution_count": 1,
   "metadata": {
    "collapsed": true
   },
   "outputs": [],
   "source": [
    "import MsgPack\n",
    "using ZMQ"
   ]
  },
  {
   "cell_type": "code",
   "execution_count": 2,
   "metadata": {
    "collapsed": false
   },
   "outputs": [],
   "source": [
    "ctx = Context()\n",
    "s = Socket(ctx, REP)\n",
    "ZMQ.bind(s, \"tcp://*:5555\")"
   ]
  },
  {
   "cell_type": "code",
   "execution_count": null,
   "metadata": {
    "collapsed": false
   },
   "outputs": [
    {
     "name": "stdout",
     "output_type": "stream",
     "text": [
      "m = \"hello\"\n",
      "m = \"hello\"\n",
      "m = \"hello\"\n",
      "m = \"hello\"\n",
      "m = \"hello world\"\n"
     ]
    }
   ],
   "source": [
    "while true\n",
    "    m = MsgPack.unpack(read(seek(convert(IOStream, ZMQ.recv(s)), 0)))\n",
    "    @show m\n",
    "    ZMQ.send(s, Message(MsgPack.pack(\"ok\")))\n",
    "end"
   ]
  }
 ],
 "metadata": {
  "kernelspec": {
   "display_name": "Julia 0.5.0",
   "language": "julia",
   "name": "julia-0.5"
  },
  "language_info": {
   "file_extension": ".jl",
   "mimetype": "application/julia",
   "name": "julia",
   "version": "0.5.0"
  }
 },
 "nbformat": 4,
 "nbformat_minor": 1
}
