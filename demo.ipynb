{
 "cells": [
  {
   "cell_type": "markdown",
   "metadata": {},
   "source": [
    "# DrakeVisualizer.jl\n",
    "This notebook demonstrates interacting with the Drake Visualizer app from Julia. On Mac and Ubuntu, just installing `DrakeVisualizer.jl` will also install a pre-built version of the standalone `drake-visualizer` executable. \n",
    "\n",
    "If you're not on one of those platforms, you'll need to install Director (which includes `drake-visualizer`) from <https://github.com/robotlocomotion/director>"
   ]
  },
  {
   "cell_type": "code",
   "execution_count": 1,
   "metadata": {
    "collapsed": false
   },
   "outputs": [
    {
     "name": "stderr",
     "output_type": "stream",
     "text": [
      "\u001b[1m\u001b[34mINFO: Recompiling stale cache file /Users/rdeits/.julia/lib/v0.5/DrakeVisualizer.ji for module DrakeVisualizer.\n",
      "\u001b[0m"
     ]
    },
    {
     "data": {
      "text/html": [
       "<div id=\"interact-js-shim\">\n",
       "    <script charset=\"utf-8\">\n",
       "(function (IPython, $, _, MathJax) {\n",
       "    $.event.special.destroyed = {\n",
       "\tremove: function(o) {\n",
       "\t    if (o.handler) {\n",
       "\t\to.handler.apply(this, arguments)\n",
       "\t    }\n",
       "\t}\n",
       "    }\n",
       "\n",
       "    var OutputArea = IPython.version >= \"4.0.0\" ? require(\"notebook/js/outputarea\").OutputArea : IPython.OutputArea;\n",
       "\n",
       "    var redrawValue = function (container, type, val) {\n",
       "\tvar selector = $(\"<div/>\");\n",
       "\tvar oa = new OutputArea(_.extend(selector, {\n",
       "\t    selector: selector,\n",
       "\t    prompt_area: true,\n",
       "\t    events: IPython.events,\n",
       "\t    keyboard_manager: IPython.keyboard_manager\n",
       "\t})); // Hack to work with IPython 2.1.0\n",
       "\n",
       "\tswitch (type) {\n",
       "\tcase \"image/png\":\n",
       "            var _src = 'data:' + type + ';base64,' + val;\n",
       "\t    $(container).find(\"img\").attr('src', _src);\n",
       "\t    break;\n",
       "\tcase \"text/latex\":\n",
       "\t\tif (MathJax){\n",
       "\t\t\tvar math = MathJax.Hub.getAllJax(container)[0];\n",
       "\t\t\tMathJax.Hub.Queue([\"Text\", math, val.replace(/^\\${1,2}|\\${1,2}$/g, '')]);\n",
       "\t\t\tbreak;\n",
       "\t\t}\n",
       "\tdefault:\n",
       "\t    var toinsert = OutputArea.append_map[type].apply(\n",
       "\t\toa, [val, {}, selector]\n",
       "\t    );\n",
       "\t    $(container).empty().append(toinsert.contents());\n",
       "\t    selector.remove();\n",
       "\t}\n",
       "    }\n",
       "\n",
       "\n",
       "    $(document).ready(function() {\n",
       "\tfunction initComm(evt, data) {\n",
       "\t    var comm_manager = data.kernel.comm_manager;\n",
       "        //_.extend(comm_manager.targets, require(\"widgets/js/widget\"))\n",
       "\t    comm_manager.register_target(\"Signal\", function (comm) {\n",
       "            comm.on_msg(function (msg) {\n",
       "                var val = msg.content.data.value;\n",
       "                $(\".signal-\" + comm.comm_id).each(function() {\n",
       "                var type = $(this).data(\"type\");\n",
       "                if (typeof(val[type]) !== \"undefined\" && val[type] !== null) {\n",
       "                    redrawValue(this, type, val[type], type);\n",
       "                }\n",
       "                });\n",
       "                delete val;\n",
       "                delete msg.content.data.value;\n",
       "            });\n",
       "\t    });\n",
       "\n",
       "\t    // coordingate with Comm and redraw Signals\n",
       "\t    // XXX: Test using Reactive here to improve performance\n",
       "\t    $([IPython.events]).on(\n",
       "\t\t'output_appended.OutputArea', function (event, type, value, md, toinsert) {\n",
       "\t\t    if (md && md.reactive) {\n",
       "                // console.log(md.comm_id);\n",
       "                toinsert.addClass(\"signal-\" + md.comm_id);\n",
       "                toinsert.data(\"type\", type);\n",
       "                // Signal back indicating the mimetype required\n",
       "                var comm_manager = IPython.notebook.kernel.comm_manager;\n",
       "                var comm = comm_manager.comms[md.comm_id];\n",
       "                comm.then(function (c) {\n",
       "                    c.send({action: \"subscribe_mime\",\n",
       "                       mime: type});\n",
       "                    toinsert.bind(\"destroyed\", function() {\n",
       "                        c.send({action: \"unsubscribe_mime\",\n",
       "                               mime: type});\n",
       "                    });\n",
       "                })\n",
       "\t\t    }\n",
       "\t    });\n",
       "\t}\n",
       "\n",
       "\ttry {\n",
       "\t    // try to initialize right away. otherwise, wait on the status_started event.\n",
       "\t    initComm(undefined, IPython.notebook);\n",
       "\t} catch (e) {\n",
       "\t    $([IPython.events]).on('kernel_created.Kernel kernel_created.Session', initComm);\n",
       "\t}\n",
       "    });\n",
       "})(IPython, jQuery, _, MathJax);\n",
       "</script>\n",
       "    <script>\n",
       "        window.interactLoadedFlag = true\n",
       "       $(\"#interact-js-shim\").bind(\"destroyed\", function () {\n",
       "           if (window.interactLoadedFlag) {\n",
       "               console.warn(\"JavaScript required by Interact will be removed if you remove this cell or run using Interact more than once.\")\n",
       "           }\n",
       "       })\n",
       "       $([IPython.events]).on(\"kernel_starting.Kernel kernel_restarting.Kernel\", function () { window.interactLoadedFlag = false })\n",
       "   </script>\n",
       "</div>"
      ]
     },
     "metadata": {},
     "output_type": "display_data"
    }
   ],
   "source": [
    "# Activate the DrakeVisualizer package, and import some other \n",
    "# useful functions\n",
    "using DrakeVisualizer\n",
    "using CoordinateTransformations\n",
    "using Interact\n",
    "import GeometryTypes: HyperRectangle, Vec, HomogenousMesh\n",
    "import ColorTypes: RGBA"
   ]
  },
  {
   "cell_type": "code",
   "execution_count": 2,
   "metadata": {
    "collapsed": false
   },
   "outputs": [],
   "source": [
    "# Launch the viewer application if it isn't running already:\n",
    "DrakeVisualizer.any_open_windows() || DrakeVisualizer.new_window();"
   ]
  },
  {
   "cell_type": "code",
   "execution_count": 4,
   "metadata": {
    "collapsed": false
   },
   "outputs": [
    {
     "data": {
      "text/plain": [
       "GeometryTypes.HyperRectangle{3,Float64}(Vec(0.0,0.0,0.0),Vec(1.0,1.0,1.0))"
      ]
     },
     "execution_count": 4,
     "metadata": {},
     "output_type": "execute_result"
    }
   ],
   "source": [
    "# First, we'll create a simple geometric object\n",
    "box = HyperRectangle(Vec(0.,0,0), Vec(1.,1,1))"
   ]
  },
  {
   "cell_type": "code",
   "execution_count": 4,
   "metadata": {
    "collapsed": false
   },
   "outputs": [
    {
     "data": {
      "text/plain": [
       "Visualizer with path prefix Symbol[] using LCM PyLCM.LCM(PyObject <LCM object at 0x324074ba0>)"
      ]
     },
     "execution_count": 4,
     "metadata": {},
     "output_type": "execute_result"
    }
   ],
   "source": [
    "# Visualizer() causes the viewer to spawn a geometry or a set of geometries. \n",
    "# It returns a Visualizer, which includes all the information\n",
    "# about that loaded geometry. \n",
    "# Note that the model is initially loaded in the zero configuration \n",
    "# (that is, its position and rotation are all zeros)\n",
    "model = Visualizer(box)"
   ]
  },
  {
   "cell_type": "code",
   "execution_count": 5,
   "metadata": {
    "collapsed": false
   },
   "outputs": [],
   "source": [
    "# We can use draw() to tell the viewer to draw the box at a specific\n",
    "# position. Translation() creates a CoordinateTransformations.Transformation\n",
    "# corresponding to the given x; y; z translation.\n",
    "draw!(model, Translation(1.,0,0))"
   ]
  },
  {
   "cell_type": "code",
   "execution_count": 6,
   "metadata": {
    "collapsed": false
   },
   "outputs": [],
   "source": [
    "# We can also rotate the model by sending a different transformation\n",
    "draw!(model, LinearMap(AngleAxis(pi/4, 0, 0, 1)))"
   ]
  },
  {
   "cell_type": "code",
   "execution_count": 7,
   "metadata": {
    "collapsed": false
   },
   "outputs": [],
   "source": [
    "# And we can clear the box\n",
    "delete!(model)"
   ]
  },
  {
   "cell_type": "code",
   "execution_count": 5,
   "metadata": {
    "collapsed": false
   },
   "outputs": [
    {
     "data": {
      "text/plain": [
       "Visualizer with path prefix Symbol[] using LCM PyLCM.LCM(PyObject <LCM object at 0x31f602cc0>)"
      ]
     },
     "execution_count": 5,
     "metadata": {},
     "output_type": "execute_result"
    }
   ],
   "source": [
    "# Now let's make some more complicated robots. We'll create a \n",
    "# new GeometryData from the box, but color it green this time.\n",
    "green_box = GeometryData(box, RGBA(0., 1, 0, 0.5))\n",
    "model = Visualizer(green_box)"
   ]
  },
  {
   "cell_type": "code",
   "execution_count": 6,
   "metadata": {
    "collapsed": false
   },
   "outputs": [],
   "source": [
    "delete!(model)"
   ]
  },
  {
   "cell_type": "markdown",
   "metadata": {},
   "source": [
    "# The Viewer Tree\n",
    "\n",
    "Now that we've introduced the basics of loading and transforming geometries, it's time to introduce the tree model used by DrakeVisualizer.jl. The idea is pretty simple:\n",
    "\n",
    "* A Visualizer contains a *tree* of geometries\n",
    "* We add, draw, and delete geometries by using their *path*, which is the path from the root of the tree to that geometry\n",
    "* We can set the transform for any node in the tree. Setting the transform for a node in the tree affects all of its descendant geometries. \n"
   ]
  },
  {
   "cell_type": "code",
   "execution_count": 73,
   "metadata": {
    "collapsed": false
   },
   "outputs": [
    {
     "data": {
      "text/plain": [
       "Visualizer with path prefix Symbol[] using LCM PyLCM.LCM(PyObject <LCM object at 0x32408cd20>)"
      ]
     },
     "execution_count": 73,
     "metadata": {},
     "output_type": "execute_result"
    }
   ],
   "source": [
    "# First, we make an empty visualizer:\n",
    "vis = Visualizer()"
   ]
  },
  {
   "cell_type": "code",
   "execution_count": 74,
   "metadata": {
    "collapsed": false
   },
   "outputs": [
    {
     "data": {
      "text/plain": [
       "Visualizer with path prefix Symbol[:group1] using LCM PyLCM.LCM(PyObject <LCM object at 0x32408cd20>)"
      ]
     },
     "execution_count": 74,
     "metadata": {},
     "output_type": "execute_result"
    }
   ],
   "source": [
    "# We can access a particular path within the visualizer with indexing notation:\n",
    "vis[:group1]"
   ]
  },
  {
   "cell_type": "code",
   "execution_count": 75,
   "metadata": {
    "collapsed": false
   },
   "outputs": [
    {
     "data": {
      "text/plain": [
       "Visualizer with path prefix Symbol[:group1,:greenbox] using LCM PyLCM.LCM(PyObject <LCM object at 0x32408cd20>)"
      ]
     },
     "execution_count": 75,
     "metadata": {},
     "output_type": "execute_result"
    }
   ],
   "source": [
    "# We load geometries using the same path notation:\n",
    "green_box_vis = load!(vis[:group1][:greenbox], green_box)"
   ]
  },
  {
   "cell_type": "markdown",
   "metadata": {},
   "source": [
    "Check out the Scene Browser in the drake visualizer app. You should see folder:\n",
    "\n",
    "    scene\n",
    "      | remote tree viewer\n",
    "          | group1\n",
    "              | greenbox\n",
    "\n",
    "  "
   ]
  },
  {
   "cell_type": "code",
   "execution_count": 76,
   "metadata": {
    "collapsed": false
   },
   "outputs": [],
   "source": [
    "# And we set transforms in the same way:\n",
    "draw!(green_box_vis, Translation(0, 0, 1))"
   ]
  },
  {
   "cell_type": "code",
   "execution_count": 77,
   "metadata": {
    "collapsed": false
   },
   "outputs": [],
   "source": [
    "# The same indexing notation makes it easy to get a handle to a \n",
    "# particular part of the viewer tree:\n",
    "group1 = vis[:group1]\n",
    "draw!(group1, Translation(0, 0, -1))"
   ]
  },
  {
   "cell_type": "markdown",
   "metadata": {},
   "source": [
    "The viewer tree becomes much more interesting (and useful) when we have multiple geometries. Let's add another geometry in the same group:"
   ]
  },
  {
   "cell_type": "code",
   "execution_count": 78,
   "metadata": {
    "collapsed": false
   },
   "outputs": [
    {
     "data": {
      "text/plain": [
       "Visualizer with path prefix Symbol[:group1,:bluebox] using LCM PyLCM.LCM(PyObject <LCM object at 0x32408cd20>)"
      ]
     },
     "execution_count": 78,
     "metadata": {},
     "output_type": "execute_result"
    }
   ],
   "source": [
    "load!(vis[:group1][:bluebox], GeometryData(box, RGBA(0, 0, 1, 0.5)))"
   ]
  },
  {
   "cell_type": "markdown",
   "metadata": {},
   "source": [
    "The scene browser will now show:\n",
    "\n",
    "    scene\n",
    "      | remote tree viewer\n",
    "          | group1\n",
    "              | greenbox\n",
    "              | bluebox"
   ]
  },
  {
   "cell_type": "markdown",
   "metadata": {},
   "source": [
    "Since both the green and blue box are inside `group1`, we can move them together by transforming that whole group:"
   ]
  },
  {
   "cell_type": "code",
   "execution_count": 79,
   "metadata": {
    "collapsed": false
   },
   "outputs": [],
   "source": [
    "draw!(vis[:group1], Translation(1, 0, 0))"
   ]
  },
  {
   "cell_type": "markdown",
   "metadata": {},
   "source": [
    "Or we can move just the green box:"
   ]
  },
  {
   "cell_type": "code",
   "execution_count": 80,
   "metadata": {
    "collapsed": false
   },
   "outputs": [],
   "source": [
    "draw!(vis[:group1][:greenbox], Translation(0, 1, 0))"
   ]
  },
  {
   "cell_type": "markdown",
   "metadata": {},
   "source": [
    "The final pose of each geometry in the tree is just the composition of all of the transforms in the path from the root of the tree to that geometry. "
   ]
  },
  {
   "cell_type": "markdown",
   "metadata": {},
   "source": [
    "Let's try interactively moving the entire group (with the first slider) and also just the green box (with the second slider):"
   ]
  },
  {
   "cell_type": "code",
   "execution_count": 81,
   "metadata": {
    "collapsed": false
   },
   "outputs": [
    {
     "data": {
      "text/html": [],
      "text/plain": [
       "Interact.Options{:SelectionSlider,Float64}(Signal{Float64}(0.9795918367346939, nactions=1),\"x1\",0.9795918367346939,\"0.9795918367346939\",Interact.OptionDict(DataStructures.OrderedDict(\"0.0\"=>0.0,\"0.04081632653061224\"=>0.0408163,\"0.08163265306122448\"=>0.0816327,\"0.12244897959183673\"=>0.122449,\"0.16326530612244897\"=>0.163265,\"0.20408163265306123\"=>0.204082,\"0.24489795918367346\"=>0.244898,\"0.2857142857142857\"=>0.285714,\"0.32653061224489793\"=>0.326531,\"0.3673469387755102\"=>0.367347…),Dict(2.0=>\"2.0\",1.59184=>\"1.5918367346938775\",0.122449=>\"0.12244897959183673\",1.95918=>\"1.9591836734693877\",1.22449=>\"1.2244897959183674\",1.63265=>\"1.6326530612244898\",0.693878=>\"0.6938775510204082\",1.10204=>\"1.1020408163265305\",1.79592=>\"1.7959183673469388\",0.367347=>\"0.3673469387755102\"…)),Any[],Any[],true,\"horizontal\")"
      ]
     },
     "metadata": {},
     "output_type": "display_data"
    },
    {
     "data": {
      "text/html": [],
      "text/plain": [
       "Interact.Options{:SelectionSlider,Float64}(Signal{Float64}(0.9795918367346939, nactions=1),\"x2\",0.9795918367346939,\"0.9795918367346939\",Interact.OptionDict(DataStructures.OrderedDict(\"0.0\"=>0.0,\"0.04081632653061224\"=>0.0408163,\"0.08163265306122448\"=>0.0816327,\"0.12244897959183673\"=>0.122449,\"0.16326530612244897\"=>0.163265,\"0.20408163265306123\"=>0.204082,\"0.24489795918367346\"=>0.244898,\"0.2857142857142857\"=>0.285714,\"0.32653061224489793\"=>0.326531,\"0.3673469387755102\"=>0.367347…),Dict(2.0=>\"2.0\",1.59184=>\"1.5918367346938775\",0.122449=>\"0.12244897959183673\",1.95918=>\"1.9591836734693877\",1.22449=>\"1.2244897959183674\",1.63265=>\"1.6326530612244898\",0.693878=>\"0.6938775510204082\",1.10204=>\"1.1020408163265305\",1.79592=>\"1.7959183673469388\",0.367347=>\"0.3673469387755102\"…)),Any[],Any[],true,\"horizontal\")"
      ]
     },
     "metadata": {},
     "output_type": "display_data"
    },
    {
     "data": {
      "text/plain": [
       "nothing"
      ]
     },
     "execution_count": 81,
     "metadata": {
      "comm_id": "bec9bfff-8750-4f0b-88ae-be157a2be324",
      "reactive": true
     },
     "output_type": "execute_result"
    }
   ],
   "source": [
    "@manipulate for x1 in linspace(0, 2), x2 in linspace(0, 2)\n",
    "    draw!(vis[:group1], Translation(x1, 0, 0))\n",
    "    draw!(vis[:group1][:greenbox], Translation(x2, 1, 0))\n",
    "end"
   ]
  },
  {
   "cell_type": "markdown",
   "metadata": {},
   "source": [
    "Likewise, we can delete an entire group:"
   ]
  },
  {
   "cell_type": "code",
   "execution_count": 82,
   "metadata": {
    "collapsed": false
   },
   "outputs": [],
   "source": [
    "delete!(vis[:group1])"
   ]
  },
  {
   "cell_type": "code",
   "execution_count": 85,
   "metadata": {
    "collapsed": false
   },
   "outputs": [],
   "source": [
    "# Of course, we can draw much more interesting geometries than \n",
    "# just simple boxes. Let's load a 3D mesh and visualize it:\n",
    "using MeshIO\n",
    "using FileIO\n",
    "cat_mesh = load(joinpath(Pkg.dir(\"GeometryTypes\"), \"test\", \"data\", \"cat.obj\"))\n",
    "model = Visualizer(cat_mesh);\n",
    "draw!(model, LinearMap(AngleAxis(pi/2, 1, 0, 0)))"
   ]
  },
  {
   "cell_type": "code",
   "execution_count": 95,
   "metadata": {
    "collapsed": false
   },
   "outputs": [],
   "source": [
    "delete!(model)"
   ]
  },
  {
   "cell_type": "code",
   "execution_count": 98,
   "metadata": {
    "collapsed": false
   },
   "outputs": [
    {
     "data": {
      "text/plain": [
       "Visualizer with path prefix Symbol[] using LCM PyLCM.LCM(PyObject <LCM object at 0x32408d390>)"
      ]
     },
     "execution_count": 98,
     "metadata": {},
     "output_type": "execute_result"
    }
   ],
   "source": [
    "# Next, let's create a triangulated mesh by finding\n",
    "# the 0-level set of some function. \n",
    "# \n",
    "# First, we'll define our function:\n",
    "f = x -> sum(sin(5 * x))\n",
    "\n",
    "# Then we pick a region of interest in which to sample the function.\n",
    "# This region starts at (-1, -1, -1) and extends to (1, 1, 1):\n",
    "lower_bound = Vec(-1.,-1,-1)\n",
    "upper_bound = Vec(1., 1, 1)\n",
    "\n",
    "# Those two pieces of information are all we need to construct a robot\n",
    "# geometry. For this, we'll need the contour_mesh function:\n",
    "mesh = contour_mesh(f, lower_bound, upper_bound)\n",
    "# Under the hood, this will sample f at regularly spaced points inside\n",
    "# the bounding rectangle, then compute a surface that connects all the \n",
    "# points for which f(x) = 0.\n",
    "\n",
    "# And now we can load that geometry into the visualizer\n",
    "model = Visualizer(mesh)"
   ]
  },
  {
   "cell_type": "code",
   "execution_count": 99,
   "metadata": {
    "collapsed": false
   },
   "outputs": [
    {
     "data": {
      "text/html": [],
      "text/plain": [
       "Interact.Options{:SelectionSlider,Float64}(Signal{Float64}(-0.04, nactions=1),\"iso_level\",-0.04,\"-0.04\",Interact.OptionDict(DataStructures.OrderedDict(\"-1.0\"=>-1.0,\"-0.96\"=>-0.96,\"-0.92\"=>-0.92,\"-0.88\"=>-0.88,\"-0.84\"=>-0.84,\"-0.8\"=>-0.8,\"-0.76\"=>-0.76,\"-0.72\"=>-0.72,\"-0.68\"=>-0.68,\"-0.64\"=>-0.64…),Dict(-0.92=>\"-0.92\",-0.28=>\"-0.28\",-0.04=>\"-0.04\",0.56=>\"0.56\",-0.32=>\"-0.32\",0.2=>\"0.2\",-0.68=>\"-0.68\",-0.96=>\"-0.96\",0.48=>\"0.48\",-0.8=>\"-0.8\"…)),Any[],Any[],true,\"horizontal\")"
      ]
     },
     "metadata": {},
     "output_type": "display_data"
    },
    {
     "data": {
      "text/plain": [
       "Visualizer with path prefix Symbol[] using LCM PyLCM.LCM(PyObject <LCM object at 0x32408d3f0>)"
      ]
     },
     "execution_count": 99,
     "metadata": {
      "comm_id": "d9880a6c-2233-41a8-9f5d-2c2b45622da0",
      "reactive": true
     },
     "output_type": "execute_result"
    }
   ],
   "source": [
    "# We can even manipulate the geometry by changing the iso level. \n",
    "# By default, contour_mesh constructs a mesh connecting the points \n",
    "# in space for which f(x) = 0, where 0 is called the isosurface level\n",
    "# or iso level. But we can change that iso level to any number we want:\n",
    "\n",
    "f = x -> sum(sin(5 * x))\n",
    "lower_bound = Vec(-1.,-1,-1)\n",
    "upper_bound = Vec(1., 1, 1)\n",
    "\n",
    "@manipulate for iso_level in linspace(-1, 1, 51)\n",
    "    geometry = contour_mesh(f, lower_bound, upper_bound, iso_level)\n",
    "    model = Visualizer(geometry)\n",
    "end\n",
    "\n",
    "# Note that for high iso_level values our geometry gets cut off at the\n",
    "# edges. We could fix that by replacing the bounds with a bigger box. "
   ]
  },
  {
   "cell_type": "code",
   "execution_count": 100,
   "metadata": {
    "collapsed": false
   },
   "outputs": [],
   "source": [
    "delete!(model)"
   ]
  },
  {
   "cell_type": "markdown",
   "metadata": {},
   "source": [
    "# Batching for Better Performance\n",
    "\n",
    "Each time you call `load!()`, `draw!()`, or `delete!()`, there is some communication between Julia and the Drake Visualizer application. That communication can take time, so if you are loading or drawing many geometries simultaneously, then you may want to batch those operations. Batching is easy. Instead of doing this:\n"
   ]
  },
  {
   "cell_type": "code",
   "execution_count": 11,
   "metadata": {
    "collapsed": false
   },
   "outputs": [],
   "source": [
    "vis = Visualizer()\n",
    "load!(vis[:group1][:box1], green_box)\n",
    "load!(vis[:group1][:box2], green_box)\n",
    "draw!(vis[:group1], Translation(0, 1, 0))\n",
    "draw!(vis[:group1][:box1], Translation(1, 0, 0))"
   ]
  },
  {
   "cell_type": "markdown",
   "metadata": {},
   "source": [
    "Just put all the commands inside a call to `batch()`:"
   ]
  },
  {
   "cell_type": "code",
   "execution_count": 13,
   "metadata": {
    "collapsed": false
   },
   "outputs": [],
   "source": [
    "vis = Visualizer()\n",
    "batch(vis) do v\n",
    "    load!(v[:group1][:box1], green_box)\n",
    "    load!(v[:group1][:box2], green_box)\n",
    "    draw!(v[:group1], Translation(0, 1, 0))\n",
    "    draw!(v[:group1][:box1], Translation(1, 0, 0))\n",
    "end"
   ]
  },
  {
   "cell_type": "markdown",
   "metadata": {},
   "source": [
    "The above syntax will perform exactly the same drawing operations, but will only send one message to the viewer at the end of the `batch()` call. "
   ]
  },
  {
   "cell_type": "code",
   "execution_count": null,
   "metadata": {
    "collapsed": false
   },
   "outputs": [],
   "source": [
    "# Close the viewer:\n",
    "# kill(proc)"
   ]
  }
 ],
 "metadata": {
  "kernelspec": {
   "display_name": "Julia 0.5.0",
   "language": "julia",
   "name": "julia-0.5"
  },
  "language_info": {
   "file_extension": ".jl",
   "mimetype": "application/julia",
   "name": "julia",
   "version": "0.5.0"
  },
  "widgets": {
   "state": {
    "03c3ec2d-1225-48f4-b274-a6d337c3e416": {
     "views": [
      {
       "cell_index": 26
      }
     ]
    },
    "2fcada92-c4e6-497c-946a-ad98a32cf349": {
     "views": [
      {
       "cell_index": 26
      }
     ]
    },
    "362bc1a2-306d-4457-a814-10d99ef8af70": {
     "views": [
      {
       "cell_index": 26
      }
     ]
    },
    "4c40071a-a7c1-4100-b92e-538675d3ab38": {
     "views": [
      {
       "cell_index": 26
      }
     ]
    },
    "54f924b4-84fb-46db-8cd8-cc5793eb3857": {
     "views": [
      {
       "cell_index": 26
      }
     ]
    },
    "5afc1713-9a0e-4557-8246-8d63b505ebfd": {
     "views": [
      {
       "cell_index": 26
      }
     ]
    },
    "adf28c45-678d-4112-a7af-c7dd3d428c1c": {
     "views": [
      {
       "cell_index": 26
      }
     ]
    },
    "e08734e8-4d03-4e2a-863a-28375a240e57": {
     "views": [
      {
       "cell_index": 26
      }
     ]
    },
    "fbc37e3c-0ea2-4db0-bac2-99f78d9e81ee": {
     "views": [
      {
       "cell_index": 26
      }
     ]
    },
    "fc959f05-d368-4d33-be14-3fbc6bb8f331": {
     "views": [
      {
       "cell_index": 32
      }
     ]
    }
   },
   "version": "1.2.0"
  }
 },
 "nbformat": 4,
 "nbformat_minor": 0
}
