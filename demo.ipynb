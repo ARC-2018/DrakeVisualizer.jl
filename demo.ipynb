{
 "cells": [
  {
   "cell_type": "markdown",
   "metadata": {},
   "source": [
    "# DrakeVisualizer.jl\n",
    "This notebook demonstrates interacting with the Drake Visualizer app from Julia. To run it, you'll need to:\n",
    "\n",
    "* install Drake: http://drake.mit.edu/\n",
    "* add the Drake lcmtypes to your python path: \n",
    "    * `export PYTHONPATH=\"$PYTHONPATH:/path/to/drake-distro/build/lib/python2.7/dist-packages\"`\n",
    "* install the DrakeVisualizer.jl package:\n",
    "    * `Pkg.clone(\"https://github.com/rdeits/DrakeVisualizer.jl.git\")`\n",
    "* launch the `drake-visualizer` app:\n",
    "    * `cd /path/to/drake-distro/build/bin`\n",
    "    * `./drake-visualizer`\n",
    "        "
   ]
  },
  {
   "cell_type": "code",
   "execution_count": 19,
   "metadata": {
    "collapsed": false
   },
   "outputs": [
    {
     "name": "stderr",
     "output_type": "stream",
     "text": [
      "INFO: Precompiling module DrakeVisualizer...\n"
     ]
    }
   ],
   "source": [
    "# Activate the DrakeVisualizer package, and import some other \n",
    "# useful functions\n",
    "using DrakeVisualizer\n",
    "import GeometryTypes: HyperRectangle, Vec, HomogenousMesh, SignedDistanceField\n",
    "using CoordinateTransformations\n",
    "import Meshing\n",
    "import ColorTypes: RGBA"
   ]
  },
  {
   "cell_type": "code",
   "execution_count": 20,
   "metadata": {
    "collapsed": false
   },
   "outputs": [],
   "source": [
    "import Interact: @manipulate"
   ]
  },
  {
   "cell_type": "code",
   "execution_count": 21,
   "metadata": {
    "collapsed": false
   },
   "outputs": [
    {
     "data": {
      "text/plain": [
       "GeometryTypes.HyperRectangle{3,Float64}(Vec(0.0,0.0,0.0),Vec(1.0,1.0,1.0))"
      ]
     },
     "execution_count": 21,
     "metadata": {},
     "output_type": "execute_result"
    }
   ],
   "source": [
    "# First, we'll create a simple geometric object\n",
    "box = HyperRectangle(Vec(0.,0,0), Vec(1.,1,1))"
   ]
  },
  {
   "cell_type": "code",
   "execution_count": 22,
   "metadata": {
    "collapsed": false
   },
   "outputs": [],
   "source": [
    "# Visualizer() causes the viewer to spawn a geometry or a set of geometries. \n",
    "# It returns a Visualizer, which includes all the information\n",
    "# about that loaded geometry. \n",
    "# Note that the model is initially loaded in the zero configuration \n",
    "# (that is, its position and rotation are all zeros)\n",
    "model = Visualizer(box);"
   ]
  },
  {
   "cell_type": "code",
   "execution_count": 23,
   "metadata": {
    "collapsed": false
   },
   "outputs": [],
   "source": [
    "# We can use draw() to tell the viewer to draw the box at a specific\n",
    "# position. Translation() creates a CoordinateTransformations.Transformation\n",
    "# corresponding to the given x; y; z translation.\n",
    "draw(model, [Translation(1.,0,0)])"
   ]
  },
  {
   "cell_type": "code",
   "execution_count": 24,
   "metadata": {
    "collapsed": false
   },
   "outputs": [],
   "source": [
    "# We can also rotate the model by sending a different transformation\n",
    "draw(model, [LinearMap(AngleAxis(pi/4, 0, 0, 1))])"
   ]
  },
  {
   "cell_type": "code",
   "execution_count": 25,
   "metadata": {
    "collapsed": false
   },
   "outputs": [
    {
     "data": {
      "text/plain": [
       "DrakeVisualizer.Robot(DrakeVisualizer.Link[DrakeVisualizer.Link(DrakeVisualizer.GeometryData[DrakeVisualizer.GeometryData{CoordinateTransformations.IdentityTransformation,GeometryTypes.HyperRectangle{3,Float64}}(GeometryTypes.HyperRectangle{3,Float64}(Vec(0.0,0.0,0.0),Vec(1.0,1.0,1.0)),CoordinateTransformations.IdentityTransformation(),RGBA{Float64}(1.0,0.0,0.0,0.5))],\"link\")])"
      ]
     },
     "execution_count": 25,
     "metadata": {},
     "output_type": "execute_result"
    }
   ],
   "source": [
    "# Let's look more at what's being done under the hood. The model\n",
    "# owns a reference to a Robot object. A Robot contains a list of \n",
    "# Link objects. Each Link contains a list of GeometryData objects.\n",
    "# And each GeometryData contains a single geometric primitive as\n",
    "# well as information about its color and its position with\n",
    "# respect to the link that contains it.\n",
    "#\n",
    "# Calling Visualizer() on a single geometry (the box above) results in \n",
    "# a new Robot being automatically created. That Robot has one link,\n",
    "# and that Link has one GeometryData whose geometry is the box we\n",
    "# provided. \n",
    "model.robot"
   ]
  },
  {
   "cell_type": "code",
   "execution_count": 26,
   "metadata": {
    "collapsed": false
   },
   "outputs": [
    {
     "data": {
      "text/plain": [
       "1-element Array{DrakeVisualizer.Link,1}:\n",
       " DrakeVisualizer.Link(DrakeVisualizer.GeometryData[DrakeVisualizer.GeometryData{CoordinateTransformations.IdentityTransformation,GeometryTypes.HyperRectangle{3,Float64}}(GeometryTypes.HyperRectangle{3,Float64}(Vec(0.0,0.0,0.0),Vec(1.0,1.0,1.0)),CoordinateTransformations.IdentityTransformation(),RGBA{Float64}(1.0,0.0,0.0,0.5))],\"link\")"
      ]
     },
     "execution_count": 26,
     "metadata": {},
     "output_type": "execute_result"
    }
   ],
   "source": [
    "model.robot.links"
   ]
  },
  {
   "cell_type": "code",
   "execution_count": 27,
   "metadata": {
    "collapsed": false
   },
   "outputs": [
    {
     "data": {
      "text/plain": [
       "GeometryTypes.HyperRectangle{3,Float64}(Vec(0.0,0.0,0.0),Vec(1.0,1.0,1.0))"
      ]
     },
     "execution_count": 27,
     "metadata": {},
     "output_type": "execute_result"
    }
   ],
   "source": [
    "# Here's the box we created. It's now the first (and only) geometry\n",
    "# of the first (and only) link of the robot:\n",
    "model.robot.links[1].geometry_data[1].geometry"
   ]
  },
  {
   "cell_type": "code",
   "execution_count": 28,
   "metadata": {
    "collapsed": false
   },
   "outputs": [],
   "source": [
    "@assert model.robot.links[1].geometry_data[1].geometry === box"
   ]
  },
  {
   "cell_type": "code",
   "execution_count": 29,
   "metadata": {
    "collapsed": false
   },
   "outputs": [],
   "source": [
    "# Now let's make some more complicated robots. We'll create a \n",
    "# new GeometryData from the box, but color it green this time.\n",
    "green_box_data = GeometryData(box)\n",
    "green_box_data.color = RGBA(0., 1, 0, 0.5)\n",
    "model = Visualizer(green_box_data);"
   ]
  },
  {
   "cell_type": "code",
   "execution_count": 30,
   "metadata": {
    "collapsed": false
   },
   "outputs": [],
   "source": [
    "# Now let's create a blue box\n",
    "blue_box_data = GeometryData(box, Translation(0,0,1.), RGBA(0,0,1,0.5))\n",
    "\n",
    "# We can create a new Link that contains two geometries: the \n",
    "# green box and the blue box. \n",
    "link1 = Link([green_box_data; blue_box_data], \"link1\")\n",
    "model = Visualizer(link1);"
   ]
  },
  {
   "cell_type": "code",
   "execution_count": 31,
   "metadata": {
    "collapsed": false
   },
   "outputs": [],
   "source": [
    "# And we can draw that new link wherever we like.\n",
    "draw(model, [Translation(0.75, 0, 0)])\n",
    "\n",
    "# Note that the green and blue boxes move together. That's\n",
    "# because they are part of the same rigid Link. "
   ]
  },
  {
   "cell_type": "code",
   "execution_count": 32,
   "metadata": {
    "collapsed": false
   },
   "outputs": [],
   "source": [
    "# If we want different parts of our robot to move separately,\n",
    "# they need to be on separate links. Let's create a second\n",
    "# Link and then a robot containing both of those links. \n",
    "red_box_data = GeometryData(box)\n",
    "link2 = Link([red_box_data], \"link2\")\n",
    "robot = Robot([link1; link2])\n",
    "\n",
    "# When we load this new robot, the two links are both drawn \n",
    "# at position [0; 0; 0]; right on top of each other.\n",
    "model = Visualizer(robot);\n"
   ]
  },
  {
   "cell_type": "code",
   "execution_count": 33,
   "metadata": {
    "collapsed": false
   },
   "outputs": [],
   "source": [
    "# Now that we have two links, we need to specify two transforms\n",
    "# for the draw() command. The order of the transforms matches\n",
    "# the order of the links in \"Robot([link1; link2])\"\n",
    "draw(model, [Translation(0.5, 0, 0), Translation(-0.5, 0, 0)])"
   ]
  },
  {
   "cell_type": "code",
   "execution_count": 34,
   "metadata": {
    "collapsed": false
   },
   "outputs": [
    {
     "data": {
      "text/html": [],
      "text/plain": [
       "Interact.Slider{Float64}(Signal{Float64}(0.9795918367346939, nactions=0),\"x1\",0.9795918367346939,linspace(0.0,2.0,50),\".3f\",true)"
      ]
     },
     "metadata": {},
     "output_type": "display_data"
    },
    {
     "data": {
      "text/html": [],
      "text/plain": [
       "Interact.Slider{Float64}(Signal{Float64}(0.9795918367346939, nactions=0),\"x2\",0.9795918367346939,linspace(0.0,2.0,50),\".3f\",true)"
      ]
     },
     "metadata": {},
     "output_type": "display_data"
    },
    {
     "data": {
      "text/plain": [
       "nothing"
      ]
     },
     "execution_count": 34,
     "metadata": {
      "comm_id": "59db85ec-bb36-4965-972e-3ea6706df011",
      "reactive": true
     },
     "output_type": "execute_result"
    }
   ],
   "source": [
    "# We can now move the two links independently\n",
    "@manipulate for x1 in linspace(0, 2), x2 in linspace(0, 2)\n",
    "    draw(model, [Translation(x1, 0, 0); Translation(x2, 0, 0)])\n",
    "end"
   ]
  },
  {
   "cell_type": "code",
   "execution_count": 35,
   "metadata": {
    "collapsed": false
   },
   "outputs": [
    {
     "data": {
      "text/plain": [
       "DrakeVisualizer.Visualizer(DrakeVisualizer.Robot(DrakeVisualizer.Link[DrakeVisualizer.Link(DrakeVisualizer.GeometryData[DrakeVisualizer.GeometryData{CoordinateTransformations.IdentityTransformation,GeometryTypes.HomogenousMesh{FixedSizeArrays.Point{3,Float64},GeometryTypes.Face{3,Int64,0},Void,Void,Void,Void,Void}}(HomogenousMesh(\n",
       "    vertices: 4952xFixedSizeArrays.Point{3,Float64},     faces: 9896xGeometryTypes.Face{3,Int64,0}, )\n",
       ",CoordinateTransformations.IdentityTransformation(),RGBA{Float64}(1.0,0.0,0.0,0.5))],\"link\")]),1,PyLCM.LCM(PyObject <LCM object at 0x7efbcbbad2d0>))"
      ]
     },
     "execution_count": 35,
     "metadata": {},
     "output_type": "execute_result"
    }
   ],
   "source": [
    "# Of course, we can draw much more interesting geometries than \n",
    "# just simple boxes. Let's create a triangulated mesh by finding\n",
    "# the 0-level set of some function. \n",
    "# \n",
    "# First, we'll define our function:\n",
    "f = x -> norm(x)^2 - abs(sin(atan2(x[2], x[1])))\n",
    "\n",
    "# Then we pick a region of interest in which to sample the function.\n",
    "# This region starts at (-1, -1, -1) and extends to (1, 1, 1):\n",
    "lower_bound = Vec(-1.,-1,-1)\n",
    "upper_bound = Vec(1., 1, 1)\n",
    "\n",
    "# Those two pieces of information are all we need to construct a robot\n",
    "# geometry. For this, we'll need the GeometryData type:\n",
    "geometry = GeometryData(f, lower_bound, upper_bound)\n",
    "# Under the hood, this will sample f at regularly spaced points inside\n",
    "# the bounding rectangle, then compute a surface that connects all the \n",
    "# points for which f(x) = 0.\n",
    "\n",
    "# And now we can load that geometry into the visualizer\n",
    "model = Visualizer(geometry)"
   ]
  },
  {
   "cell_type": "code",
   "execution_count": 36,
   "metadata": {
    "collapsed": false
   },
   "outputs": [
    {
     "data": {
      "text/html": [],
      "text/plain": [
       "Interact.Slider{Float64}(Signal{Float64}(-0.02040816326530612, nactions=0),\"iso_level\",-0.02040816326530612,linspace(-1.0,1.0,50),\".3f\",true)"
      ]
     },
     "metadata": {},
     "output_type": "display_data"
    },
    {
     "data": {
      "text/plain": [
       "DrakeVisualizer.Visualizer(DrakeVisualizer.Robot(DrakeVisualizer.Link[DrakeVisualizer.Link(DrakeVisualizer.GeometryData[DrakeVisualizer.GeometryData{CoordinateTransformations.IdentityTransformation,GeometryTypes.HomogenousMesh{FixedSizeArrays.Point{3,Float64},GeometryTypes.Face{3,Int64,0},Void,Void,Void,Void,Void}}(HomogenousMesh(\n",
       "    vertices: 4900xFixedSizeArrays.Point{3,Float64},     faces: 9792xGeometryTypes.Face{3,Int64,0}, )\n",
       ",CoordinateTransformations.IdentityTransformation(),RGBA{Float64}(1.0,0.0,0.0,0.5))],\"link\")]),1,PyLCM.LCM(PyObject <LCM object at 0x7efbcbbad300>))"
      ]
     },
     "execution_count": 36,
     "metadata": {
      "comm_id": "8e3c8d79-b9c7-40f0-aa9c-01d6b09649b5",
      "reactive": true
     },
     "output_type": "execute_result"
    }
   ],
   "source": [
    "# We can even manipulate the geometry by changing the iso level. \n",
    "# By default, GeometryData constructs a mesh connecting the points \n",
    "# in space for which f(x) = 0, where 0 is called the isosurface level\n",
    "# or iso level. But we can change that iso level to any number we want:\n",
    "\n",
    "f = x -> norm(x)^2 - abs(sin(atan2(x[2], x[1])))\n",
    "lower_bound = Vec(-1.,-1,-1)\n",
    "upper_bound = Vec(1., 1, 1)\n",
    "\n",
    "@manipulate for iso_level in linspace(-1, 1)\n",
    "    geometry = GeometryData(f, lower_bound, upper_bound, iso_level)\n",
    "    model = Visualizer(geometry);\n",
    "end\n",
    "\n",
    "# Note that for high iso_level values our geometry gets cut off at the\n",
    "# edges. We could fix that by replacing the bounds with a bigger box. "
   ]
  },
  {
   "cell_type": "code",
   "execution_count": null,
   "metadata": {
    "collapsed": true
   },
   "outputs": [],
   "source": []
  }
 ],
 "metadata": {
  "kernelspec": {
   "display_name": "Julia 0.5.0-rc3",
   "language": "julia",
   "name": "julia-0.5"
  },
  "language_info": {
   "file_extension": ".jl",
   "mimetype": "application/julia",
   "name": "julia",
   "version": "0.5.0"
  },
  "widgets": {
   "state": {
    "0d0baa8b-124d-457f-8c79-82ac2498620b": {
     "views": [
      {
       "cell_index": 16
      }
     ]
    },
    "4f42b453-edd3-4633-8380-cc89bfb9dc8e": {
     "views": [
      {
       "cell_index": 16
      }
     ]
    },
    "519be6aa-5309-4185-ac08-40f6f5b2b07f": {
     "views": [
      {
       "cell_index": 18
      }
     ]
    },
    "e58a7c12-1367-4469-9b28-17ff28f257fe": {
     "views": [
      {
       "cell_index": 16
      }
     ]
    },
    "eedbcf84-af84-4878-8b43-71d7e642e744": {
     "views": [
      {
       "cell_index": 16
      }
     ]
    }
   },
   "version": "1.2.0"
  }
 },
 "nbformat": 4,
 "nbformat_minor": 0
}
