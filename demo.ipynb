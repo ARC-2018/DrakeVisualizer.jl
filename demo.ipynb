{
 "cells": [
  {
   "cell_type": "markdown",
   "metadata": {},
   "source": [
    "# DrakeVisualizer.jl\n",
    "This notebook demonstrates interacting with the Drake Visualizer app from Julia. To run it, you'll need to:\n",
    "\n",
    "* install Drake: http://drake.mit.edu/\n",
    "* add the Drake lcmtypes to your python path: \n",
    "    * `export PYTHONPATH=\"$PYTHONPATH:/path/to/drake-distro/build/lib/python2.7/dist-packages\"`\n",
    "* install the DrakeVisualizer.jl package:\n",
    "    * `Pkg.clone(\"https://github.com/rdeits/DrakeVisualizer.jl.git\")`\n",
    "* launch the `drake-visualizer` app:\n",
    "    * `cd /path/to/drake-distro/build/bin`\n",
    "    * `./drake-visualizer`\n",
    "        "
   ]
  },
  {
   "cell_type": "code",
   "execution_count": 1,
   "metadata": {
    "collapsed": false
   },
   "outputs": [
    {
     "ename": "LoadError",
     "evalue": "LoadError: module DrakeVisualizer not found in current path; you should rm(\"/Users/rdeits/.julia/declarative/af436fcf2f98e2f612470aec5b00fca6/lib/v0.4/DrakeVisualizer.ji\") to remove the orphaned cache file\nwhile loading In[1], in expression starting on line 3",
     "output_type": "error",
     "traceback": [
      "LoadError: module DrakeVisualizer not found in current path; you should rm(\"/Users/rdeits/.julia/declarative/af436fcf2f98e2f612470aec5b00fca6/lib/v0.4/DrakeVisualizer.ji\") to remove the orphaned cache file\nwhile loading In[1], in expression starting on line 3",
      ""
     ]
    }
   ],
   "source": [
    "# Activate the DrakeVisualizer package, and import some other \n",
    "# useful functions\n",
    "using DrakeVisualizer\n",
    "import GeometryTypes: HyperRectangle, Vec, HomogenousMesh, SignedDistanceField\n",
    "import Meshing\n",
    "import AffineTransforms: tformtranslate, tformrotate\n",
    "import ColorTypes: RGBA\n",
    "import Interact: @manipulate"
   ]
  },
  {
   "cell_type": "code",
   "execution_count": 2,
   "metadata": {
    "collapsed": false
   },
   "outputs": [
    {
     "data": {
      "text/plain": [
       "GeometryTypes.HyperRectangle{3,Float64}(FixedSizeArrays.Vec{3,Float64}((0.0,0.0,0.0)),FixedSizeArrays.Vec{3,Float64}((1.0,1.0,1.0)))"
      ]
     },
     "execution_count": 2,
     "metadata": {},
     "output_type": "execute_result"
    }
   ],
   "source": [
    "# First, we'll create a simple geometric object\n",
    "box = HyperRectangle(Vec(0.,0,0), Vec(1.,1,1))"
   ]
  },
  {
   "cell_type": "code",
   "execution_count": 3,
   "metadata": {
    "collapsed": false
   },
   "outputs": [],
   "source": [
    "# Visualizer() causes the viewer to spawn a geometry or a set of geometries. \n",
    "# It returns a Visualizer, which includes all the information\n",
    "# about that loaded geometry. \n",
    "# Note that the model is initially loaded in the zero configuration \n",
    "# (that is, its position and rotation are all zeros)\n",
    "model = Visualizer(box);"
   ]
  },
  {
   "cell_type": "code",
   "execution_count": 4,
   "metadata": {
    "collapsed": false
   },
   "outputs": [],
   "source": [
    "# We can use draw() to tell the viewer to draw the box at a specific\n",
    "# position. tformtranslate() creates an AffineTransform corresponding\n",
    "# to the given x; y; z translation.\n",
    "draw(model, [tformtranslate([1;0;0])])"
   ]
  },
  {
   "cell_type": "code",
   "execution_count": 5,
   "metadata": {
    "collapsed": true
   },
   "outputs": [],
   "source": [
    "# We can also rotate the model by sending a different AffineTransform\n",
    "draw(model, [tformrotate([0;0;1], pi/4)])"
   ]
  },
  {
   "cell_type": "code",
   "execution_count": 6,
   "metadata": {
    "collapsed": false
   },
   "outputs": [
    {
     "data": {
      "text/plain": [
       "DrakeVisualizer.Robot([DrakeVisualizer.Link(DrakeVisualizer.GeometryData[DrakeVisualizer.GeometryData{Float64,GeometryTypes.HyperRectangle{3,Float64}}(GeometryTypes.HyperRectangle{3,Float64}(FixedSizeArrays.Vec{3,Float64}((0.0,0.0,0.0)),FixedSizeArrays.Vec{3,Float64}((1.0,1.0,1.0))),AffineTransforms.AffineTransform{Float64,3}:\n",
       "matrix: 3x3 Array{Float64,2}:\n",
       " 1.0  0.0  0.0\n",
       " 0.0  1.0  0.0\n",
       " 0.0  0.0  1.0\n",
       "translation: [0.0,0.0,0.0]\n",
       ",RGBA{Float64}(1.0,0.0,0.0,0.5))],\"link\")])"
      ]
     },
     "execution_count": 6,
     "metadata": {},
     "output_type": "execute_result"
    }
   ],
   "source": [
    "# Let's look more at what's being done under the hood. The model\n",
    "# owns a reference to a Robot object. A Robot contains a list of \n",
    "# Link objects. Each Link contains a list of GeometryData objects.\n",
    "# And each GeometryData contains a single geometric primitive as\n",
    "# well as information about its color and its position with\n",
    "# respect to the link that contains it.\n",
    "#\n",
    "# Calling Visualizer() on a single geometry (the box above) results in \n",
    "# a new Robot being automatically created. That Robot has one link,\n",
    "# and that Link has one GeometryData whose geometry is the box we\n",
    "# provided. \n",
    "model.robot"
   ]
  },
  {
   "cell_type": "code",
   "execution_count": 7,
   "metadata": {
    "collapsed": false
   },
   "outputs": [
    {
     "data": {
      "text/plain": [
       "1-element Array{DrakeVisualizer.Link,1}:\n",
       " DrakeVisualizer.Link(DrakeVisualizer.GeometryData[DrakeVisualizer.GeometryData{Float64,GeometryTypes.HyperRectangle{3,Float64}}(GeometryTypes.HyperRectangle{3,Float64}(FixedSizeArrays.Vec{3,Float64}((0.0,0.0,0.0)),FixedSizeArrays.Vec{3,Float64}((1.0,1.0,1.0))),AffineTransforms.AffineTransform{Float64,3}:\n",
       "matrix: 3x3 Array{Float64,2}:\n",
       " 1.0  0.0  0.0\n",
       " 0.0  1.0  0.0\n",
       " 0.0  0.0  1.0\n",
       "translation: [0.0,0.0,0.0]\n",
       ",RGBA{Float64}(1.0,0.0,0.0,0.5))],\"link\")"
      ]
     },
     "execution_count": 7,
     "metadata": {},
     "output_type": "execute_result"
    }
   ],
   "source": [
    "model.robot.links"
   ]
  },
  {
   "cell_type": "code",
   "execution_count": 8,
   "metadata": {
    "collapsed": false
   },
   "outputs": [
    {
     "data": {
      "text/plain": [
       "GeometryTypes.HyperRectangle{3,Float64}(FixedSizeArrays.Vec{3,Float64}((0.0,0.0,0.0)),FixedSizeArrays.Vec{3,Float64}((1.0,1.0,1.0)))"
      ]
     },
     "execution_count": 8,
     "metadata": {},
     "output_type": "execute_result"
    }
   ],
   "source": [
    "model.robot.links[1].geometry_data[1].geometry"
   ]
  },
  {
   "cell_type": "code",
   "execution_count": 9,
   "metadata": {
    "collapsed": false
   },
   "outputs": [],
   "source": [
    "@assert model.robot.links[1].geometry_data[1].geometry === box"
   ]
  },
  {
   "cell_type": "code",
   "execution_count": 10,
   "metadata": {
    "collapsed": false
   },
   "outputs": [],
   "source": [
    "# Now let's make some more complicated robots. We'll create a \n",
    "# new GeometryData from the box, but color it green this time.\n",
    "green_box_data = GeometryData(box)\n",
    "green_box_data.color = RGBA(0., 1, 0, 0.5)\n",
    "model = Visualizer(green_box_data);"
   ]
  },
  {
   "cell_type": "code",
   "execution_count": 11,
   "metadata": {
    "collapsed": false
   },
   "outputs": [],
   "source": [
    "# Now let's create a blue box\n",
    "blue_box_data = GeometryData(box, tformtranslate([0;0;1.]), RGBA(0,0,1,0.5))\n",
    "\n",
    "# We can create a new Link that contains two geometries: the \n",
    "# green box and the blue box. \n",
    "link1 = Link([green_box_data; blue_box_data], \"link1\")\n",
    "model = Visualizer(link1);"
   ]
  },
  {
   "cell_type": "code",
   "execution_count": 12,
   "metadata": {
    "collapsed": true
   },
   "outputs": [],
   "source": [
    "# And we can draw that new link wherever we like.\n",
    "draw(model, [tformtranslate([0.75; 0; 0])])\n",
    "\n",
    "# Note that the green and blue boxes move together. That's\n",
    "# because they are part of the same rigid link. "
   ]
  },
  {
   "cell_type": "code",
   "execution_count": 13,
   "metadata": {
    "collapsed": false
   },
   "outputs": [],
   "source": [
    "# If we want different parts of our robot to move separately,\n",
    "# they need to be on separate links. Let's create a second\n",
    "# Link and then a robot containing both of those links. \n",
    "red_box_data = GeometryData(box)\n",
    "link2 = Link([red_box_data], \"link2\")\n",
    "robot = Robot([link1; link2])\n",
    "\n",
    "# When we load this new robot, the two links are both drawn \n",
    "# at position [0; 0; 0]; right on top of each other.\n",
    "model = Visualizer(robot);\n"
   ]
  },
  {
   "cell_type": "code",
   "execution_count": 14,
   "metadata": {
    "collapsed": true
   },
   "outputs": [],
   "source": [
    "# Now that we have two links, we need to specify two transforms\n",
    "# for the draw() command. The order of the transforms matches\n",
    "# the order of the links in \"Robot([link1; link2])\"\n",
    "draw(model, [tformtranslate([0.5; 0; 0]), tformtranslate([-0.5;0;0])])"
   ]
  },
  {
   "cell_type": "code",
   "execution_count": 15,
   "metadata": {
    "collapsed": false
   },
   "outputs": [
    {
     "data": {
      "text/html": [],
      "text/plain": [
       "Interact.Slider{Float64}(Signal{Float64}(0.9795918367346939, nactions=0),\"x1\",0.9795918367346939,linspace(0.0,2.0,50),true)"
      ]
     },
     "metadata": {},
     "output_type": "display_data"
    },
    {
     "data": {
      "text/html": [],
      "text/plain": [
       "Interact.Slider{Float64}(Signal{Float64}(0.9795918367346939, nactions=0),\"x2\",0.9795918367346939,linspace(0.0,2.0,50),true)"
      ]
     },
     "metadata": {},
     "output_type": "display_data"
    },
    {
     "data": {
      "text/plain": [
       "nothing"
      ]
     },
     "execution_count": 15,
     "metadata": {
      "comm_id": "18c32074-9c30-4b3e-9169-d0febcb51361",
      "reactive": true
     },
     "output_type": "execute_result"
    }
   ],
   "source": [
    "# We can now move the two links independently\n",
    "@manipulate for x1 in linspace(0, 2), x2 in linspace(0, 2)\n",
    "    draw(model, [tformtranslate([x1; 0; 0]); tformtranslate([x2; 0; 0])])\n",
    "end"
   ]
  },
  {
   "cell_type": "code",
   "execution_count": 16,
   "metadata": {
    "collapsed": false
   },
   "outputs": [],
   "source": [
    "# Of course, we can draw much more interesting geometries than \n",
    "# just simple boxes. Let's create a triangulated mesh by finding\n",
    "# the 0-level set of some function. \n",
    "# \n",
    "# First, we'll define our function:\n",
    "f = x -> norm(x)^2 - abs(sin(atan2(x[2], x[1])))\n",
    "\n",
    "# Then we sample that function within the volume from \n",
    "# [-1; -1; -1] to [1; 1; 1]\n",
    "sdf = SignedDistanceField(f, HyperRectangle(Vec(-1.,-1,-1), Vec(2.,2,2)))\n",
    "\n",
    "# Next we find a mesh describing the 0-level set of that function\n",
    "# using the marching tetrahedra algorithm\n",
    "mesh = HomogenousMesh(sdf)\n",
    "\n",
    "# And we can now load that mesh into the visualizer\n",
    "model = Visualizer(mesh);"
   ]
  },
  {
   "cell_type": "code",
   "execution_count": 17,
   "metadata": {
    "collapsed": false
   },
   "outputs": [
    {
     "data": {
      "text/html": [],
      "text/plain": [
       "Interact.Slider{Float64}(Signal{Float64}(-0.02040816326530612, nactions=0),\"iso_level\",-0.02040816326530612,linspace(-1.0,1.0,50),true)"
      ]
     },
     "metadata": {},
     "output_type": "display_data"
    },
    {
     "data": {
      "text/plain": [
       "DrakeVisualizer.VisualizerModel(DrakeVisualizer.Robot([DrakeVisualizer.Link(DrakeVisualizer.GeometryData[DrakeVisualizer.GeometryData{Float64,GeometryTypes.HomogenousMesh{FixedSizeArrays.Point{3,Float64},GeometryTypes.Face{3,Int64,0},Void,Void,Void,Void,Void}}(HomogenousMesh(\n",
       "    vertices: 4900xFixedSizeArrays.Point{3,Float64},     faces: 9792xGeometryTypes.Face{3,Int64,0}, )\n",
       ",AffineTransforms.AffineTransform{Float64,3}:\n",
       "matrix: 3x3 Array{Float64,2}:\n",
       " 1.0  0.0  0.0\n",
       " 0.0  1.0  0.0\n",
       " 0.0  0.0  1.0\n",
       "translation: [0.0,0.0,0.0]\n",
       ",RGBA{Float64}(1.0,0.0,0.0,0.5))],\"link\")]),DrakeVisualizer.Visualizer(PyLCM.LCM(PyObject <LCM object at 0x31e60ede0>)),1)"
      ]
     },
     "execution_count": 17,
     "metadata": {
      "comm_id": "18c826ef-0433-423e-bda3-78a74db4b572",
      "reactive": true
     },
     "output_type": "execute_result"
    }
   ],
   "source": [
    "# We can even manipulate the geometry by changing the function:\n",
    "@manipulate for iso_level in linspace(-1, 1)\n",
    "    f = x -> norm(x)^2 - abs(sin(atan2(x[2], x[1]))) - iso_level\n",
    "    sdf = SignedDistanceField(f, HyperRectangle(Vec(-1.1,-1.1,-1.1), Vec(2.2,2.2,2.2)))\n",
    "    mesh = HomogenousMesh(sdf)\n",
    "    model = Visualizer(mesh);\n",
    "end"
   ]
  },
  {
   "cell_type": "code",
   "execution_count": 18,
   "metadata": {
    "collapsed": true
   },
   "outputs": [],
   "source": []
  }
 ],
 "metadata": {
  "kernelspec": {
   "display_name": "Julia 0.4.5",
   "language": "julia",
   "name": "julia-0.4"
  },
  "language_info": {
   "file_extension": ".jl",
   "mimetype": "application/julia",
   "name": "julia",
   "version": "0.4.5"
  }
 },
 "nbformat": 4,
 "nbformat_minor": 0
}
