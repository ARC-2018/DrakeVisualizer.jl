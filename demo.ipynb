{
 "cells": [
  {
   "cell_type": "markdown",
   "metadata": {},
   "source": [
    "# DrakeVisualizer.jl\n",
    "This notebook demonstrates interacting with the Drake Visualizer app from Julia. On Mac and Ubuntu, just installing `DrakeVisualizer.jl` will also install a pre-built version of the standalone `drake-visualizer` executable. \n",
    "\n",
    "If you're not on one of those platforms, you'll need to install Director (which includes `drake-visualizer`) from <https://github.com/robotlocomotion/director>"
   ]
  },
  {
   "cell_type": "code",
   "execution_count": 1,
   "metadata": {
    "collapsed": false
   },
   "outputs": [
    {
     "data": {
      "text/html": [
       "<div id=\"interact-js-shim\">\n",
       "    <script charset=\"utf-8\">\n",
       "(function (IPython, $, _, MathJax) {\n",
       "    $.event.special.destroyed = {\n",
       "\tremove: function(o) {\n",
       "\t    if (o.handler) {\n",
       "\t\to.handler.apply(this, arguments)\n",
       "\t    }\n",
       "\t}\n",
       "    }\n",
       "\n",
       "    var OutputArea = IPython.version >= \"4.0.0\" ? require(\"notebook/js/outputarea\").OutputArea : IPython.OutputArea;\n",
       "\n",
       "    var redrawValue = function (container, type, val) {\n",
       "\tvar selector = $(\"<div/>\");\n",
       "\tvar oa = new OutputArea(_.extend(selector, {\n",
       "\t    selector: selector,\n",
       "\t    prompt_area: true,\n",
       "\t    events: IPython.events,\n",
       "\t    keyboard_manager: IPython.keyboard_manager\n",
       "\t})); // Hack to work with IPython 2.1.0\n",
       "\n",
       "\tswitch (type) {\n",
       "\tcase \"image/png\":\n",
       "            var _src = 'data:' + type + ';base64,' + val;\n",
       "\t    $(container).find(\"img\").attr('src', _src);\n",
       "\t    break;\n",
       "\tdefault:\n",
       "\t    var toinsert = OutputArea.append_map[type].apply(\n",
       "\t\toa, [val, {}, selector]\n",
       "\t    );\n",
       "\t    $(container).empty().append(toinsert.contents());\n",
       "\t    selector.remove();\n",
       "\t}\n",
       "\tif (type === \"text/latex\" && MathJax) {\n",
       "\t    MathJax.Hub.Queue([\"Typeset\", MathJax.Hub, toinsert.get(0)]);\n",
       "\t}\n",
       "    }\n",
       "\n",
       "\n",
       "    $(document).ready(function() {\n",
       "\tfunction initComm(evt, data) {\n",
       "\t    var comm_manager = data.kernel.comm_manager;\n",
       "        //_.extend(comm_manager.targets, require(\"widgets/js/widget\"))\n",
       "\t    comm_manager.register_target(\"Signal\", function (comm) {\n",
       "            comm.on_msg(function (msg) {\n",
       "                //Widgets.log(\"message received\", msg);\n",
       "                var val = msg.content.data.value;\n",
       "                $(\".signal-\" + comm.comm_id).each(function() {\n",
       "                var type = $(this).data(\"type\");\n",
       "                if (val[type]) {\n",
       "                    redrawValue(this, type, val[type], type);\n",
       "                }\n",
       "                });\n",
       "                delete val;\n",
       "                delete msg.content.data.value;\n",
       "            });\n",
       "\t    });\n",
       "\n",
       "\t    // coordingate with Comm and redraw Signals\n",
       "\t    // XXX: Test using Reactive here to improve performance\n",
       "\t    $([IPython.events]).on(\n",
       "\t\t'output_appended.OutputArea', function (event, type, value, md, toinsert) {\n",
       "\t\t    if (md && md.reactive) {\n",
       "                // console.log(md.comm_id);\n",
       "                toinsert.addClass(\"signal-\" + md.comm_id);\n",
       "                toinsert.data(\"type\", type);\n",
       "                // Signal back indicating the mimetype required\n",
       "                var comm_manager = IPython.notebook.kernel.comm_manager;\n",
       "                var comm = comm_manager.comms[md.comm_id];\n",
       "                comm.then(function (c) {\n",
       "                    c.send({action: \"subscribe_mime\",\n",
       "                       mime: type});\n",
       "                    toinsert.bind(\"destroyed\", function() {\n",
       "                        c.send({action: \"unsubscribe_mime\",\n",
       "                               mime: type});\n",
       "                    });\n",
       "                })\n",
       "\t\t    }\n",
       "\t    });\n",
       "\t}\n",
       "\n",
       "\ttry {\n",
       "\t    // try to initialize right away. otherwise, wait on the status_started event.\n",
       "\t    initComm(undefined, IPython.notebook);\n",
       "\t} catch (e) {\n",
       "\t    $([IPython.events]).on('kernel_created.Kernel kernel_created.Session', initComm);\n",
       "\t}\n",
       "    });\n",
       "})(IPython, jQuery, _, MathJax);\n",
       "</script>\n",
       "    <script>\n",
       "        window.interactLoadedFlag = true\n",
       "       $(\"#interact-js-shim\").bind(\"destroyed\", function () {\n",
       "           if (window.interactLoadedFlag) {\n",
       "               console.warn(\"JavaScript required by Interact will be removed if you remove this cell or run using Interact more than once.\")\n",
       "           }\n",
       "       })\n",
       "       $([IPython.events]).on(\"kernel_starting.Kernel kernel_restarting.Kernel\", function () { window.interactLoadedFlag = false })\n",
       "   </script>\n",
       "</div>"
      ]
     },
     "metadata": {},
     "output_type": "display_data"
    },
    {
     "name": "stdout",
     "output_type": "stream",
     "text": [
      "adding: /Users/rdeits/locomotion/explorations/point-cloud-signed-distance/packages/v0.5/DrakeVisualizer/src/lcmtypes to the python path\n"
     ]
    }
   ],
   "source": [
    "# Activate the DrakeVisualizer package, and import some other \n",
    "# useful functions\n",
    "using DrakeVisualizer\n",
    "using CoordinateTransformations\n",
    "using Interact\n",
    "import GeometryTypes: HyperRectangle, Vec, HomogenousMesh\n",
    "import ColorTypes: RGBA"
   ]
  },
  {
   "cell_type": "code",
   "execution_count": 2,
   "metadata": {
    "collapsed": false
   },
   "outputs": [],
   "source": [
    "# Run the following command to launch the viewer application:\n",
    "# proc = DrakeVisualizer.new_window()"
   ]
  },
  {
   "cell_type": "code",
   "execution_count": 3,
   "metadata": {
    "collapsed": false
   },
   "outputs": [
    {
     "data": {
      "text/plain": [
       "GeometryTypes.HyperRectangle{3,Float64}(Vec(0.0,0.0,0.0),Vec(1.0,1.0,1.0))"
      ]
     },
     "execution_count": 3,
     "metadata": {},
     "output_type": "execute_result"
    }
   ],
   "source": [
    "# First, we'll create a simple geometric object\n",
    "box = HyperRectangle(Vec(0.,0,0), Vec(1.,1,1))"
   ]
  },
  {
   "cell_type": "code",
   "execution_count": 4,
   "metadata": {
    "collapsed": false
   },
   "outputs": [],
   "source": [
    "# Visualizer() causes the viewer to spawn a geometry or a set of geometries. \n",
    "# It returns a Visualizer, which includes all the information\n",
    "# about that loaded geometry. \n",
    "# Note that the model is initially loaded in the zero configuration \n",
    "# (that is, its position and rotation are all zeros)\n",
    "model = Visualizer(box);"
   ]
  },
  {
   "cell_type": "code",
   "execution_count": 5,
   "metadata": {
    "collapsed": false
   },
   "outputs": [],
   "source": [
    "# We can use draw() to tell the viewer to draw the box at a specific\n",
    "# position. Translation() creates a CoordinateTransformations.Transformation\n",
    "# corresponding to the given x; y; z translation.\n",
    "draw(model, [Translation(1.,0,0)])"
   ]
  },
  {
   "cell_type": "code",
   "execution_count": 6,
   "metadata": {
    "collapsed": false
   },
   "outputs": [],
   "source": [
    "# We can also rotate the model by sending a different transformation\n",
    "draw(model, [LinearMap(AngleAxis(pi/4, 0, 0, 1))])"
   ]
  },
  {
   "cell_type": "code",
   "execution_count": 8,
   "metadata": {
    "collapsed": false
   },
   "outputs": [
    {
     "data": {
      "text/plain": [
       "DataStructures.OrderedDict{Int64,Array{DrakeVisualizer.GeometryData,1}} with 1 entry:\n",
       "  1 => DrakeVisualizer.GeometryData[DrakeVisualizer.GeometryData{CoordinateTran…"
      ]
     },
     "execution_count": 8,
     "metadata": {},
     "output_type": "execute_result"
    }
   ],
   "source": [
    "# Let's look more at what's being done under the hood. The model\n",
    "# contains an ordered dictionary from keys to Link objects. Each \n",
    "# Link is a list of GeometryData objects.\n",
    "# And each GeometryData contains a single geometric primitive as\n",
    "# well as information about its color and its position with\n",
    "# respect to the link that contains it.\n",
    "#\n",
    "# Calling Visualizer() on a single geometry (the box above) results in \n",
    "# a new Robot being automatically created. That Robot has one link,\n",
    "# and that Link has one GeometryData whose geometry is the box we\n",
    "# provided.\n",
    "model.links"
   ]
  },
  {
   "cell_type": "code",
   "execution_count": 9,
   "metadata": {
    "collapsed": false
   },
   "outputs": [
    {
     "data": {
      "text/plain": [
       "1-element Array{DrakeVisualizer.GeometryData,1}:\n",
       " DrakeVisualizer.GeometryData{CoordinateTransformations.IdentityTransformation,GeometryTypes.HyperRectangle{3,Float64}}(GeometryTypes.HyperRectangle{3,Float64}(Vec(0.0,0.0,0.0),Vec(1.0,1.0,1.0)),CoordinateTransformations.IdentityTransformation(),RGBA{Float64}(1.0,0.0,0.0,0.5))"
      ]
     },
     "execution_count": 9,
     "metadata": {},
     "output_type": "execute_result"
    }
   ],
   "source": [
    "# Here's that single link. Since we didn't provide a key for our \n",
    "# geometry, it was automatically given the key 1:\n",
    "model.links[1]"
   ]
  },
  {
   "cell_type": "code",
   "execution_count": 10,
   "metadata": {
    "collapsed": false
   },
   "outputs": [
    {
     "data": {
      "text/plain": [
       "DrakeVisualizer.GeometryData{CoordinateTransformations.IdentityTransformation,GeometryTypes.HyperRectangle{3,Float64}}(GeometryTypes.HyperRectangle{3,Float64}(Vec(0.0,0.0,0.0),Vec(1.0,1.0,1.0)),CoordinateTransformations.IdentityTransformation(),RGBA{Float64}(1.0,0.0,0.0,0.5))"
      ]
     },
     "execution_count": 10,
     "metadata": {},
     "output_type": "execute_result"
    }
   ],
   "source": [
    "# Here's the box we created. It's the first (and only) geometry\n",
    "# of the first (and only) link of the robot. \n",
    "model.links[1][1]"
   ]
  },
  {
   "cell_type": "code",
   "execution_count": 11,
   "metadata": {
    "collapsed": false
   },
   "outputs": [],
   "source": [
    "@assert model.links[1][1].geometry === box"
   ]
  },
  {
   "cell_type": "code",
   "execution_count": 12,
   "metadata": {
    "collapsed": false
   },
   "outputs": [],
   "source": [
    "# Now let's make some more complicated robots. We'll create a \n",
    "# new GeometryData from the box, but color it green this time.\n",
    "green_box_data = GeometryData(box)\n",
    "green_box_data.color = RGBA(0., 1, 0, 0.5)\n",
    "model = Visualizer(green_box_data);"
   ]
  },
  {
   "cell_type": "code",
   "execution_count": 13,
   "metadata": {
    "collapsed": false
   },
   "outputs": [],
   "source": [
    "# Now let's create a blue box\n",
    "blue_box_data = GeometryData(box, Translation(0,0,1.), RGBA(0,0,1,0.5))\n",
    "\n",
    "# We can create a new Link that contains two geometries: the \n",
    "# green box and the blue box. \n",
    "link1 = Link([green_box_data; blue_box_data])\n",
    "model = Visualizer(link1);"
   ]
  },
  {
   "cell_type": "code",
   "execution_count": 14,
   "metadata": {
    "collapsed": false
   },
   "outputs": [],
   "source": [
    "# And we can draw that new link wherever we like.\n",
    "draw(model, [Translation(0.75, 0, 0)])\n",
    "\n",
    "# Note that the green and blue boxes move together. That's\n",
    "# because they are part of the same rigid Link. "
   ]
  },
  {
   "cell_type": "code",
   "execution_count": 15,
   "metadata": {
    "collapsed": false
   },
   "outputs": [],
   "source": [
    "# If we want different parts of our robot to move separately,\n",
    "# they need to be on separate links. Let's create a second\n",
    "# Link and then a robot containing both of those links. \n",
    "red_box_data = GeometryData(box)\n",
    "link2 = Link([red_box_data])\n",
    "\n",
    "# When we load this new robot, the two links are both drawn \n",
    "# at position [0; 0; 0]; right on top of each other.\n",
    "model = Visualizer([link1, link2]);"
   ]
  },
  {
   "cell_type": "code",
   "execution_count": 23,
   "metadata": {
    "collapsed": false
   },
   "outputs": [],
   "source": [
    "# Now that we have two links, we need to specify two transforms\n",
    "# for the draw() command. The order of the transforms matches\n",
    "# the order of the links in \"Robot([link1; link2])\"\n",
    "draw(model, [Translation(0.5, 0, 0), Translation(-0.5, 0, 0)])"
   ]
  },
  {
   "cell_type": "code",
   "execution_count": 24,
   "metadata": {
    "collapsed": false
   },
   "outputs": [
    {
     "data": {
      "text/html": [],
      "text/plain": [
       "Interact.Slider{Float64}(Signal{Float64}(0.9795918367346939, nactions=0),\"x1\",0.9795918367346939,linspace(0.0,2.0,50),\".3f\",true)"
      ]
     },
     "metadata": {},
     "output_type": "display_data"
    },
    {
     "data": {
      "text/html": [],
      "text/plain": [
       "Interact.Slider{Float64}(Signal{Float64}(0.9795918367346939, nactions=0),\"x2\",0.9795918367346939,linspace(0.0,2.0,50),\".3f\",true)"
      ]
     },
     "metadata": {},
     "output_type": "display_data"
    },
    {
     "data": {
      "text/plain": [
       "nothing"
      ]
     },
     "execution_count": 24,
     "metadata": {
      "comm_id": "9bc9c7a7-6452-4f8b-be6c-ba6e14f5a1d0",
      "reactive": true
     },
     "output_type": "execute_result"
    }
   ],
   "source": [
    "# We can now move the two links independently\n",
    "@manipulate for x1 in linspace(0, 2), x2 in linspace(0, 2)\n",
    "    draw(model, [Translation(x1, 0, 0); Translation(x2, 0, 0)])\n",
    "end"
   ]
  },
  {
   "cell_type": "code",
   "execution_count": 25,
   "metadata": {
    "collapsed": false
   },
   "outputs": [],
   "source": [
    "# Remembering the order of the links is likely to get confusing\n",
    "# as our robots get more complicated. Instead, we can give each\n",
    "# link a name (or any other identifying key) and then use a \n",
    "# dictionary to specify the pose of each link:\n",
    "\n",
    "model = Visualizer(Dict(:red => red_box_data, :bluegreen => link1));"
   ]
  },
  {
   "cell_type": "code",
   "execution_count": 26,
   "metadata": {
    "collapsed": true
   },
   "outputs": [],
   "source": [
    "# Now we can set the positions of the links by passing a Dict to \n",
    "# draw():\n",
    "\n",
    "draw(model, Dict(:red => IdentityTransformation(), \n",
    "                 :bluegreen => Translation(0., 0, 2.0)))"
   ]
  },
  {
   "cell_type": "code",
   "execution_count": 27,
   "metadata": {
    "collapsed": true
   },
   "outputs": [],
   "source": [
    "# We don't have to draw all of the links ever time. Let's just move\n",
    "# the red box:\n",
    "draw(model, Dict(:red => Translation(1., 0, 0)))"
   ]
  },
  {
   "cell_type": "code",
   "execution_count": 28,
   "metadata": {
    "collapsed": false
   },
   "outputs": [
    {
     "name": "stderr",
     "output_type": "stream",
     "text": [
      "WARNING: imported binding for cat overwritten in module Main\n"
     ]
    }
   ],
   "source": [
    "# Of course, we can draw much more interesting geometries than \n",
    "# just simple boxes. Let's load a 3D mesh and visualize it:\n",
    "using MeshIO\n",
    "using FileIO\n",
    "cat = load(joinpath(Pkg.dir(\"GeometryTypes\"), \"test\", \"data\", \"cat.obj\"))\n",
    "model = Visualizer(cat);\n",
    "draw(model, [LinearMap(AngleAxis(pi/2, 1, 0, 0))])"
   ]
  },
  {
   "cell_type": "code",
   "execution_count": 29,
   "metadata": {
    "collapsed": false
   },
   "outputs": [
    {
     "data": {
      "text/plain": [
       "DrakeVisualizer.Visualizer{Int64}(DataStructures.OrderedDict(1=>DrakeVisualizer.GeometryData[DrakeVisualizer.GeometryData{CoordinateTransformations.IdentityTransformation,GeometryTypes.HomogenousMesh{FixedSizeArrays.Point{3,Float64},GeometryTypes.Face{3,Int64,0},Void,Void,Void,Void,Void}}(HomogenousMesh(\n",
       "    vertices: 6945xFixedSizeArrays.Point{3,Float64},     faces: 13260xGeometryTypes.Face{3,Int64,0}, )\n",
       ",CoordinateTransformations.IdentityTransformation(),RGBA{Float64}(1.0,0.0,0.0,0.5))]),1,PyLCM.LCM(PyObject <LCM object at 0x3174596c0>))"
      ]
     },
     "execution_count": 29,
     "metadata": {},
     "output_type": "execute_result"
    }
   ],
   "source": [
    "# Next, let's create a triangulated mesh by finding\n",
    "# the 0-level set of some function. \n",
    "# \n",
    "# First, we'll define our function:\n",
    "f = x -> sum(sin(5 * x))\n",
    "\n",
    "# Then we pick a region of interest in which to sample the function.\n",
    "# This region starts at (-1, -1, -1) and extends to (1, 1, 1):\n",
    "lower_bound = Vec(-1.,-1,-1)\n",
    "upper_bound = Vec(1., 1, 1)\n",
    "\n",
    "# Those two pieces of information are all we need to construct a robot\n",
    "# geometry. For this, we'll need the contour_mesh function:\n",
    "mesh = contour_mesh(f, lower_bound, upper_bound)\n",
    "# Under the hood, this will sample f at regularly spaced points inside\n",
    "# the bounding rectangle, then compute a surface that connects all the \n",
    "# points for which f(x) = 0.\n",
    "\n",
    "# And now we can load that geometry into the visualizer\n",
    "model = Visualizer(mesh)"
   ]
  },
  {
   "cell_type": "code",
   "execution_count": 31,
   "metadata": {
    "collapsed": false
   },
   "outputs": [
    {
     "data": {
      "text/html": [],
      "text/plain": [
       "Interact.Slider{Float64}(Signal{Float64}(0.0, nactions=0),\"iso_level\",0.0,linspace(-1.0,1.0,51),\".3f\",true)"
      ]
     },
     "metadata": {},
     "output_type": "display_data"
    },
    {
     "data": {
      "text/plain": [
       "DrakeVisualizer.Visualizer{Int64}(DataStructures.OrderedDict(1=>DrakeVisualizer.GeometryData[DrakeVisualizer.GeometryData{CoordinateTransformations.IdentityTransformation,GeometryTypes.HomogenousMesh{FixedSizeArrays.Point{3,Float64},GeometryTypes.Face{3,Int64,0},Void,Void,Void,Void,Void}}(HomogenousMesh(\n",
       "    vertices: 6945xFixedSizeArrays.Point{3,Float64},     faces: 13260xGeometryTypes.Face{3,Int64,0}, )\n",
       ",CoordinateTransformations.IdentityTransformation(),RGBA{Float64}(1.0,0.0,0.0,0.5))]),1,PyLCM.LCM(PyObject <LCM object at 0x3174598a0>))"
      ]
     },
     "execution_count": 31,
     "metadata": {
      "comm_id": "289caec4-7ef3-4300-b631-b1f8055f0528",
      "reactive": true
     },
     "output_type": "execute_result"
    }
   ],
   "source": [
    "# We can even manipulate the geometry by changing the iso level. \n",
    "# By default, contour_mesh constructs a mesh connecting the points \n",
    "# in space for which f(x) = 0, where 0 is called the isosurface level\n",
    "# or iso level. But we can change that iso level to any number we want:\n",
    "\n",
    "f = x -> sum(sin(5 * x))\n",
    "lower_bound = Vec(-1.,-1,-1)\n",
    "upper_bound = Vec(1., 1, 1)\n",
    "\n",
    "@manipulate for iso_level in linspace(-1, 1, 51)\n",
    "    geometry = contour_mesh(f, lower_bound, upper_bound, iso_level)\n",
    "    model = Visualizer(geometry);\n",
    "end\n",
    "\n",
    "# Note that for high iso_level values our geometry gets cut off at the\n",
    "# edges. We could fix that by replacing the bounds with a bigger box. "
   ]
  },
  {
   "cell_type": "code",
   "execution_count": 32,
   "metadata": {
    "collapsed": false
   },
   "outputs": [],
   "source": [
    "# It is also possible to visualize multiple robots at the same time,\n",
    "# while sending separate draw() commands for each robot. To do that,\n",
    "# we construct two Robot() objects and pass them both in to the call\n",
    "# to Visualizer. This will return *two* visualizers, which we can use\n",
    "# to draw each robot separately:\n",
    "\n",
    "vis1, vis2 = Visualizer([Robot([link1]), Robot([link2])]);"
   ]
  },
  {
   "cell_type": "code",
   "execution_count": 33,
   "metadata": {
    "collapsed": false
   },
   "outputs": [
    {
     "data": {
      "text/html": [],
      "text/plain": [
       "Interact.Slider{Float64}(Signal{Float64}(0.9795918367346939, nactions=0),\"z\",0.9795918367346939,linspace(0.0,2.0,50),\".3f\",true)"
      ]
     },
     "metadata": {},
     "output_type": "display_data"
    },
    {
     "data": {
      "text/plain": [
       "nothing"
      ]
     },
     "execution_count": 33,
     "metadata": {
      "comm_id": "80be76fa-bbbb-44cf-8384-0d8ea3c7466b",
      "reactive": true
     },
     "output_type": "execute_result"
    }
   ],
   "source": [
    "# To demonstrate this, let's move the first robot while leaving the\n",
    "# second one where it is. We do that by calling draw() on vis1:\n",
    "@manipulate for z in linspace(0, 2)\n",
    "    draw(vis1, [Translation(0, 0, z)])\n",
    "end"
   ]
  },
  {
   "cell_type": "code",
   "execution_count": 34,
   "metadata": {
    "collapsed": false
   },
   "outputs": [
    {
     "data": {
      "text/html": [],
      "text/plain": [
       "Interact.Slider{Float64}(Signal{Float64}(0.9795918367346939, nactions=0),\"x\",0.9795918367346939,linspace(0.0,2.0,50),\".3f\",true)"
      ]
     },
     "metadata": {},
     "output_type": "display_data"
    },
    {
     "data": {
      "text/plain": [
       "nothing"
      ]
     },
     "execution_count": 34,
     "metadata": {
      "comm_id": "4e683c8f-f3b9-4edf-8f3b-91dec9685490",
      "reactive": true
     },
     "output_type": "execute_result"
    }
   ],
   "source": [
    "# Now let's move just the second robot by calling draw() on vis2:\n",
    "@manipulate for x in linspace(0, 2)\n",
    "    draw(vis2, [Translation(x, 0, 0)])\n",
    "end"
   ]
  },
  {
   "cell_type": "code",
   "execution_count": 23,
   "metadata": {
    "collapsed": false
   },
   "outputs": [
    {
     "data": {
      "text/plain": [
       "0"
      ]
     },
     "execution_count": 23,
     "metadata": {},
     "output_type": "execute_result"
    }
   ],
   "source": [
    "# Close the viewer:\n",
    "# kill(proc)"
   ]
  }
 ],
 "metadata": {
  "kernelspec": {
   "display_name": "Julia 0.5.0",
   "language": "julia",
   "name": "julia-0.5"
  },
  "language_info": {
   "file_extension": ".jl",
   "mimetype": "application/julia",
   "name": "julia",
   "version": "0.5.0"
  },
  "widgets": {
   "state": {
    "113f5a4a-38cd-4770-a3dd-2f277f8449f6": {
     "views": [
      {
       "cell_index": 16
      }
     ]
    },
    "12c6e479-87d5-4126-a117-d3c4d86e53da": {
     "views": [
      {
       "cell_index": 16
      }
     ]
    },
    "3607e992-d999-4b56-8ab8-ebd6aa5fed73": {
     "views": [
      {
       "cell_index": 22
      }
     ]
    },
    "935fbdec-0c0e-47eb-a80a-721c0bea52fd": {
     "views": [
      {
       "cell_index": 16
      }
     ]
    },
    "9d9ba1a3-79b1-418f-a03a-9bdba3f95b6c": {
     "views": [
      {
       "cell_index": 24
      }
     ]
    },
    "b95bd01c-cb2b-44d1-b586-ca82f6d7f901": {
     "views": [
      {
       "cell_index": 25
      }
     ]
    }
   },
   "version": "1.2.0"
  }
 },
 "nbformat": 4,
 "nbformat_minor": 0
}
