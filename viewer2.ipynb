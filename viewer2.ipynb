{
 "cells": [
  {
   "cell_type": "code",
   "execution_count": 1,
   "metadata": {
    "collapsed": false
   },
   "outputs": [
    {
     "name": "stderr",
     "output_type": "stream",
     "text": [
      "INFO: Recompiling stale cache file /home/rdeits/.julia/lib/v0.5/GeometryTypes.ji for module GeometryTypes.\n",
      "INFO: Recompiling stale cache file /home/rdeits/.julia/lib/v0.5/StaticArrays.ji for module StaticArrays.\n",
      "INFO: Recompiling stale cache file /home/rdeits/.julia/lib/v0.5/CoordinateTransformations.ji for module CoordinateTransformations.\n",
      "INFO: Recompiling stale cache file /home/rdeits/.julia/lib/v0.5/PyLCM.ji for module PyLCM.\n",
      "INFO: Recompiling stale cache file /home/rdeits/.julia/lib/v0.5/MeshIO.ji for module MeshIO.\n"
     ]
    }
   ],
   "source": [
    "using GeometryTypes\n",
    "using CoordinateTransformations\n",
    "using ColorTypes\n",
    "using PyLCM\n",
    "using MeshIO\n",
    "using FileIO"
   ]
  },
  {
   "cell_type": "code",
   "execution_count": 2,
   "metadata": {
    "collapsed": false
   },
   "outputs": [
    {
     "name": "stderr",
     "output_type": "stream",
     "text": [
      "INFO: Precompiling module DrakeVisualizer.\n"
     ]
    },
    {
     "name": "stdout",
     "output_type": "stream",
     "text": [
      "adding: /home/rdeits/.julia/v0.5/DrakeVisualizer/src/lcmtypes to the python path\n"
     ]
    }
   ],
   "source": [
    "import DrakeVisualizer"
   ]
  },
  {
   "cell_type": "code",
   "execution_count": 79,
   "metadata": {
    "collapsed": false
   },
   "outputs": [
    {
     "name": "stderr",
     "output_type": "stream",
     "text": [
      "INFO: Recompiling stale cache file /home/rdeits/.julia/lib/v0.5/DrakeVisualizer.ji for module DrakeVisualizer.\n"
     ]
    },
    {
     "name": "stdout",
     "output_type": "stream",
     "text": [
      "adding: /home/rdeits/.julia/v0.5/DrakeVisualizer/src/lcmtypes to the python path\n"
     ]
    },
    {
     "name": "stderr",
     "output_type": "stream",
     "text": [
      "WARNING: replacing module DrakeVisualizer.\n"
     ]
    }
   ],
   "source": [
    "reload(\"DrakeVisualizer\")"
   ]
  },
  {
   "cell_type": "code",
   "execution_count": 80,
   "metadata": {
    "collapsed": false
   },
   "outputs": [
    {
     "data": {
      "text/plain": [
       "DrakeVisualizer.Visualizer(DrakeVisualizer.CoreVisualizer(PyLCM.LCM(PyObject <LCM object at 0x7f7e381d7570>),LazyTree: DrakeVisualizer.VisData(CoordinateTransformations.IdentityTransformation(),DrakeVisualizer.GeometryData[]) with children: Dict(:body1=>LazyTree: DrakeVisualizer.VisData(CoordinateTransformations.IdentityTransformation(),DrakeVisualizer.GeometryData[DrakeVisualizer.GeometryData{GeometryTypes.HyperRectangle{3,Float64},ColorTypes.RGBA{Float64}}(GeometryTypes.HyperRectangle{3,Float64}(Vec(0.0,0.0,0.5),Vec(0.5,0.5,0.5)),RGBA{Float64}(1.0,0.0,0.0,0.5))])),DrakeVisualizer.CommandQueue(Array{Symbol,1}[],Array{Symbol,1}[],Array{Symbol,1}[]),true),Symbol[])"
      ]
     },
     "execution_count": 80,
     "metadata": {},
     "output_type": "execute_result"
    }
   ],
   "source": [
    "vis = DrakeVisualizer.Visualizer(DrakeVisualizer.HyperRectangle(Vec(0, 0, 0.5), Vec(0.5, 0.5, 0.5)))"
   ]
  },
  {
   "cell_type": "code",
   "execution_count": 81,
   "metadata": {
    "collapsed": false
   },
   "outputs": [
    {
     "data": {
      "text/plain": [
       "true"
      ]
     },
     "execution_count": 81,
     "metadata": {},
     "output_type": "execute_result"
    }
   ],
   "source": [
    "DrakeVisualizer.draw(vis, Translation([0, 0, 0.5]))"
   ]
  },
  {
   "cell_type": "code",
   "execution_count": 82,
   "metadata": {
    "collapsed": false
   },
   "outputs": [
    {
     "data": {
      "text/plain": [
       "DrakeVisualizer.Visualizer(DrakeVisualizer.CoreVisualizer(PyLCM.LCM(PyObject <LCM object at 0x7f7e381d7630>),LazyTree: DrakeVisualizer.VisData(CoordinateTransformations.IdentityTransformation(),DrakeVisualizer.GeometryData[]),DrakeVisualizer.CommandQueue(Array{Symbol,1}[],Array{Symbol,1}[],Array{Symbol,1}[]),true),Symbol[])"
      ]
     },
     "execution_count": 82,
     "metadata": {},
     "output_type": "execute_result"
    }
   ],
   "source": [
    "vis = DrakeVisualizer.Visualizer()"
   ]
  },
  {
   "cell_type": "code",
   "execution_count": 83,
   "metadata": {
    "collapsed": false
   },
   "outputs": [
    {
     "data": {
      "text/plain": [
       "DrakeVisualizer.GeometryData{GeometryTypes.HyperRectangle{3,Float64},ColorTypes.RGBA{Float64}}(GeometryTypes.HyperRectangle{3,Float64}(Vec(0.0,0.0,0.5),Vec(1.0,1.0,1.0)),RGBA{Float64}(0.0,0.0,1.0,0.5))"
      ]
     },
     "execution_count": 83,
     "metadata": {},
     "output_type": "execute_result"
    }
   ],
   "source": [
    "box = DrakeVisualizer.HyperRectangle(Vec(0, 0, 0.5), Vec(1, 1, 1))\n",
    "geomdata = DrakeVisualizer.GeometryData(box, RGBA(0., 0, 1, 0.5))"
   ]
  },
  {
   "cell_type": "code",
   "execution_count": 84,
   "metadata": {
    "collapsed": false
   },
   "outputs": [
    {
     "data": {
      "text/plain": [
       "DrakeVisualizer.Visualizer(DrakeVisualizer.CoreVisualizer(PyLCM.LCM(PyObject <LCM object at 0x7f7e381d7630>),LazyTree: DrakeVisualizer.VisData(CoordinateTransformations.IdentityTransformation(),DrakeVisualizer.GeometryData[]),DrakeVisualizer.CommandQueue(Array{Symbol,1}[],Array{Symbol,1}[],Array{Symbol,1}[]),true),Symbol[:robot1,:link1])"
      ]
     },
     "execution_count": 84,
     "metadata": {},
     "output_type": "execute_result"
    }
   ],
   "source": [
    "link1 = vis[:robot1][:link1]"
   ]
  },
  {
   "cell_type": "code",
   "execution_count": 85,
   "metadata": {
    "collapsed": false
   },
   "outputs": [
    {
     "data": {
      "text/plain": [
       "true"
      ]
     },
     "execution_count": 85,
     "metadata": {},
     "output_type": "execute_result"
    }
   ],
   "source": [
    "DrakeVisualizer.load!(link1, geomdata)"
   ]
  },
  {
   "cell_type": "code",
   "execution_count": 86,
   "metadata": {
    "collapsed": false
   },
   "outputs": [
    {
     "ename": "LoadError",
     "evalue": "InterruptException:",
     "output_type": "error",
     "traceback": [
      "InterruptException:",
      "",
      " in process_events(::Bool) at ./libuv.jl:82",
      " in wait() at ./event.jl:147",
      " in wait(::Condition) at ./event.jl:27",
      " in wait(::Timer) at ./event.jl:319",
      " in sleep(::Float64) at ./event.jl:360",
      " in macro expansion; at ./In[86]:4 [inlined]",
      " in anonymous at ./<missing>:?"
     ]
    }
   ],
   "source": [
    "while true\n",
    "    for x in linspace(0, 2*pi)\n",
    "        DrakeVisualizer.draw!(vis[:robot1], LinearMap(AngleAxis(x, 0, 0, 1)))\n",
    "        sleep(0.01)\n",
    "    end\n",
    "end"
   ]
  },
  {
   "cell_type": "code",
   "execution_count": 87,
   "metadata": {
    "collapsed": false
   },
   "outputs": [
    {
     "data": {
      "text/plain": [
       "true"
      ]
     },
     "execution_count": 87,
     "metadata": {},
     "output_type": "execute_result"
    }
   ],
   "source": [
    "mesh = load(\"/home/rdeits/.julia/v0.5/GeometryTypes/test/data/cat.obj\")\n",
    "DrakeVisualizer.load!(vis[:robot1][:link2], mesh)"
   ]
  },
  {
   "cell_type": "code",
   "execution_count": 88,
   "metadata": {
    "collapsed": false
   },
   "outputs": [
    {
     "data": {
      "text/plain": [
       "true"
      ]
     },
     "execution_count": 88,
     "metadata": {},
     "output_type": "execute_result"
    }
   ],
   "source": [
    "DrakeVisualizer.draw!(vis[:robot1], Translation([1., 0.2, 0.2]))"
   ]
  },
  {
   "cell_type": "code",
   "execution_count": 91,
   "metadata": {
    "collapsed": false
   },
   "outputs": [
    {
     "data": {
      "text/plain": [
       "true"
      ]
     },
     "execution_count": 91,
     "metadata": {},
     "output_type": "execute_result"
    }
   ],
   "source": [
    "DrakeVisualizer.draw!(vis[:robot1][:link2], Translation([1., 0.3, 0.3]))"
   ]
  },
  {
   "cell_type": "code",
   "execution_count": 92,
   "metadata": {
    "collapsed": false
   },
   "outputs": [
    {
     "data": {
      "text/plain": [
       "true"
      ]
     },
     "execution_count": 92,
     "metadata": {},
     "output_type": "execute_result"
    }
   ],
   "source": [
    "pc = DrakeVisualizer.PointCloud([[0, y, 0] for y in linspace(-1, 1)])\n",
    "pc.channels[:rgb] = [RGB(y, 0, 1-y) for y in linspace(0, 1)]\n",
    "\n",
    "DrakeVisualizer.batch(vis) do v\n",
    "    DrakeVisualizer.delete!(vis[:robot1])\n",
    "    DrakeVisualizer.load!(vis[:pc2], pc)\n",
    "end"
   ]
  },
  {
   "cell_type": "code",
   "execution_count": 93,
   "metadata": {
    "collapsed": false
   },
   "outputs": [
    {
     "ename": "LoadError",
     "evalue": "InterruptException:",
     "output_type": "error",
     "traceback": [
      "InterruptException:",
      "",
      " in process_events(::Bool) at ./libuv.jl:82",
      " in wait() at ./event.jl:147",
      " in wait(::Condition) at ./event.jl:27",
      " in wait(::Timer) at ./event.jl:319",
      " in sleep(::Float64) at ./event.jl:360",
      " in macro expansion; at ./In[93]:10 [inlined]",
      " in anonymous at ./<missing>:?"
     ]
    }
   ],
   "source": [
    "pc2_vis = vis[:pc2]\n",
    "while true\n",
    "    for x in linspace(0, 2*pi)\n",
    "        DrakeVisualizer.batch(vis) do v\n",
    "            pc = DrakeVisualizer.PointCloud([[0, y, 0] for y in linspace(-1, 1)])\n",
    "            pc.channels[:rgb] = [RGB(sin(y + x), 0, cos(y + x)) for y in linspace(0, 2*pi)]\n",
    "            DrakeVisualizer.load!(pc2_vis, pc)\n",
    "            DrakeVisualizer.draw!(pc2_vis, Translation(sin(x), 0, 0))\n",
    "        end\n",
    "        sleep(0.01)\n",
    "    end\n",
    "end"
   ]
  },
  {
   "cell_type": "code",
   "execution_count": 94,
   "metadata": {
    "collapsed": false
   },
   "outputs": [
    {
     "data": {
      "text/plain": [
       "true"
      ]
     },
     "execution_count": 94,
     "metadata": {},
     "output_type": "execute_result"
    }
   ],
   "source": [
    "DrakeVisualizer.delete!(vis[:pc2])"
   ]
  },
  {
   "cell_type": "code",
   "execution_count": null,
   "metadata": {
    "collapsed": true
   },
   "outputs": [],
   "source": []
  }
 ],
 "metadata": {
  "kernelspec": {
   "display_name": "Julia 0.5.0",
   "language": "julia",
   "name": "julia-0.5"
  },
  "language_info": {
   "file_extension": ".jl",
   "mimetype": "application/julia",
   "name": "julia",
   "version": "0.5.0"
  }
 },
 "nbformat": 4,
 "nbformat_minor": 2
}
