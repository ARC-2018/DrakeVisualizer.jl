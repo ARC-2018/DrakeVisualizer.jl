{
 "cells": [
  {
   "cell_type": "code",
   "execution_count": 1,
   "metadata": {
    "collapsed": false
   },
   "outputs": [],
   "source": [
    "using GeometryTypes\n",
    "using CoordinateTransformations\n",
    "using ColorTypes\n",
    "using PyLCM\n",
    "using MeshIO\n",
    "using FileIO"
   ]
  },
  {
   "cell_type": "code",
   "execution_count": 2,
   "metadata": {
    "collapsed": false
   },
   "outputs": [
    {
     "name": "stderr",
     "output_type": "stream",
     "text": [
      "INFO: Recompiling stale cache file /Users/rdeits/.julia/lib/v0.5/DrakeVisualizer.ji for module DrakeVisualizer.\n"
     ]
    },
    {
     "name": "stdout",
     "output_type": "stream",
     "text": [
      "adding: /Users/rdeits/.julia/v0.5/DrakeVisualizer/src/lcmtypes to the python path\n"
     ]
    }
   ],
   "source": [
    "import DrakeVisualizer"
   ]
  },
  {
   "cell_type": "code",
   "execution_count": 24,
   "metadata": {
    "collapsed": false
   },
   "outputs": [
    {
     "name": "stderr",
     "output_type": "stream",
     "text": [
      "INFO: Recompiling stale cache file /Users/rdeits/.julia/lib/v0.5/DrakeVisualizer.ji for module DrakeVisualizer.\n"
     ]
    },
    {
     "name": "stdout",
     "output_type": "stream",
     "text": [
      "adding: /Users/rdeits/.julia/v0.5/DrakeVisualizer/src/lcmtypes to the python path\n"
     ]
    },
    {
     "name": "stderr",
     "output_type": "stream",
     "text": [
      "WARNING: replacing module DrakeVisualizer.\n"
     ]
    }
   ],
   "source": [
    "reload(\"DrakeVisualizer\")"
   ]
  },
  {
   "cell_type": "code",
   "execution_count": 25,
   "metadata": {
    "collapsed": false
   },
   "outputs": [
    {
     "data": {
      "text/plain": [
       "DrakeVisualizer.Visualizer(PyLCM.LCM(PyObject <LCM object at 0x31ac94cc0>),LazyTree: DrakeVisualizer.VisData(Nullable{CoordinateTransformations.Transformation}(),Nullable{DrakeVisualizer.GeometryData{G<:GeometryTypes.AbstractGeometry,C<:ColorTypes.Colorant}}()),DrakeVisualizer.CommandQueue(Array{String,1}[],Array{String,1}[],Array{String,1}[]))"
      ]
     },
     "execution_count": 25,
     "metadata": {},
     "output_type": "execute_result"
    }
   ],
   "source": [
    "lcm = LCM()\n",
    "vis = DrakeVisualizer.Visualizer(lcm)"
   ]
  },
  {
   "cell_type": "code",
   "execution_count": 26,
   "metadata": {
    "collapsed": false
   },
   "outputs": [
    {
     "data": {
      "text/plain": [
       "true"
      ]
     },
     "execution_count": 26,
     "metadata": {},
     "output_type": "execute_result"
    }
   ],
   "source": [
    "box = DrakeVisualizer.HyperRectangle(Vec(0, 0, 0), Vec(1, 1, 1))\n",
    "geomdata = DrakeVisualizer.GeometryData(box, RGBA(0., 0, 1, 0.5))\n",
    "\n",
    "DrakeVisualizer.queue_load!(vis, [\"robot1\", \"link1\"], geomdata)\n",
    "\n",
    "DrakeVisualizer.publish!(vis)"
   ]
  },
  {
   "cell_type": "code",
   "execution_count": 28,
   "metadata": {
    "collapsed": false
   },
   "outputs": [
    {
     "ename": "LoadError",
     "evalue": "LoadError: InterruptException:\nwhile loading In[28], in expression starting on line 1",
     "output_type": "error",
     "traceback": [
      "LoadError: InterruptException:\nwhile loading In[28], in expression starting on line 1",
      "",
      " in process_events(::Bool) at ./libuv.jl:82",
      " in wait() at ./event.jl:147",
      " in wait(::Condition) at ./event.jl:27",
      " in wait(::Timer) at ./event.jl:319",
      " in sleep(::Float64) at ./event.jl:360",
      " in macro expansion; at ./In[28]:4 [inlined]",
      " in anonymous at ./<missing>:?"
     ]
    }
   ],
   "source": [
    "while true\n",
    "    for x in linspace(0, 2*pi)\n",
    "        DrakeVisualizer.draw!(vis, [\"robot1\"], LinearMap(AngleAxis(x, 0, 0, 1)))\n",
    "        sleep(0.01)\n",
    "    end\n",
    "end"
   ]
  },
  {
   "cell_type": "code",
   "execution_count": 44,
   "metadata": {
    "collapsed": false
   },
   "outputs": [
    {
     "data": {
      "text/plain": [
       "true"
      ]
     },
     "execution_count": 44,
     "metadata": {},
     "output_type": "execute_result"
    }
   ],
   "source": [
    "mesh = load(\"/Users/rdeits/.julia/v0.5/GeometryTypes/test/data/cat.obj\")\n",
    "meshgeom = DrakeVisualizer.GeometryData(mesh, RGBA(0, 0.5, 1, 0.5))\n",
    "\n",
    "DrakeVisualizer.load!(vis, [\"robot1\", \"link2\"], meshgeom)"
   ]
  },
  {
   "cell_type": "code",
   "execution_count": 38,
   "metadata": {
    "collapsed": false
   },
   "outputs": [
    {
     "data": {
      "text/plain": [
       "true"
      ]
     },
     "execution_count": 38,
     "metadata": {},
     "output_type": "execute_result"
    }
   ],
   "source": [
    "DrakeVisualizer.draw!(vis, [\"robot1\"], Translation([1., 0.2, 0.2]))"
   ]
  },
  {
   "cell_type": "code",
   "execution_count": 39,
   "metadata": {
    "collapsed": false
   },
   "outputs": [
    {
     "data": {
      "text/plain": [
       "true"
      ]
     },
     "execution_count": 39,
     "metadata": {},
     "output_type": "execute_result"
    }
   ],
   "source": [
    "DrakeVisualizer.draw!(vis, [\"robot1\", \"link2\"], Translation([1., 0.3, 0.3]))"
   ]
  },
  {
   "cell_type": "code",
   "execution_count": 40,
   "metadata": {
    "collapsed": false
   },
   "outputs": [
    {
     "data": {
      "text/plain": [
       "true"
      ]
     },
     "execution_count": 40,
     "metadata": {},
     "output_type": "execute_result"
    }
   ],
   "source": [
    "DrakeVisualizer.delete!(vis, [\"robot1\"])\n",
    "\n",
    "pc = DrakeVisualizer.PointCloud{Vector{Float64}, RGB{Float64}}([[0, y, 0] for y in linspace(-1, 1)], Nullable(), Nullable())\n",
    "pcgeom = DrakeVisualizer.GeometryData(pc, RGB(0., 1, 0))\n",
    "\n",
    "DrakeVisualizer.load!(vis, [\"pc2\"], pcgeom)"
   ]
  },
  {
   "cell_type": "code",
   "execution_count": 36,
   "metadata": {
    "collapsed": false
   },
   "outputs": [
    {
     "ename": "LoadError",
     "evalue": "LoadError: InterruptException:\nwhile loading In[36], in expression starting on line 1",
     "output_type": "error",
     "traceback": [
      "LoadError: InterruptException:\nwhile loading In[36], in expression starting on line 1",
      "",
      " in process_events(::Bool) at ./libuv.jl:82",
      " in wait() at ./event.jl:147",
      " in wait(::Condition) at ./event.jl:27",
      " in wait(::Timer) at ./event.jl:319",
      " in sleep(::Float64) at ./event.jl:360",
      " in macro expansion; at ./In[36]:4 [inlined]",
      " in anonymous at ./<missing>:?"
     ]
    }
   ],
   "source": [
    "while true\n",
    "    for x in linspace(0, 2*pi)\n",
    "        DrakeVisualizer.draw!(vis, [\"pc2\"], LinearMap(AngleAxis(x, 0, 0, 1)))\n",
    "        sleep(0.01)\n",
    "    end\n",
    "end"
   ]
  },
  {
   "cell_type": "code",
   "execution_count": 43,
   "metadata": {
    "collapsed": false
   },
   "outputs": [
    {
     "data": {
      "text/plain": [
       "true"
      ]
     },
     "execution_count": 43,
     "metadata": {},
     "output_type": "execute_result"
    }
   ],
   "source": [
    "DrakeVisualizer.delete!(vis, [\"pc2\"])"
   ]
  },
  {
   "cell_type": "code",
   "execution_count": null,
   "metadata": {
    "collapsed": true
   },
   "outputs": [],
   "source": []
  }
 ],
 "metadata": {
  "kernelspec": {
   "display_name": "Julia 0.5.0",
   "language": "julia",
   "name": "julia-0.5"
  },
  "language_info": {
   "file_extension": ".jl",
   "mimetype": "application/julia",
   "name": "julia",
   "version": "0.5.0"
  }
 },
 "nbformat": 4,
 "nbformat_minor": 2
}
