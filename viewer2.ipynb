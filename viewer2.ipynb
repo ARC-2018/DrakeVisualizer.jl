{
 "cells": [
  {
   "cell_type": "code",
   "execution_count": 37,
   "metadata": {
    "collapsed": false
   },
   "outputs": [
    {
     "name": "stderr",
     "output_type": "stream",
     "text": [
      "INFO: Recompiling stale cache file /Users/rdeits/.julia/lib/v0.5/MeshIO.ji for module MeshIO.\n"
     ]
    }
   ],
   "source": [
    "using GeometryTypes\n",
    "using CoordinateTransformations\n",
    "using ColorTypes\n",
    "using PyLCM\n",
    "using MeshIO\n",
    "using FileIO"
   ]
  },
  {
   "cell_type": "code",
   "execution_count": 2,
   "metadata": {
    "collapsed": false
   },
   "outputs": [
    {
     "name": "stderr",
     "output_type": "stream",
     "text": [
      "INFO: Recompiling stale cache file /Users/rdeits/.julia/lib/v0.5/DrakeVisualizer.ji for module DrakeVisualizer.\n"
     ]
    },
    {
     "name": "stdout",
     "output_type": "stream",
     "text": [
      "adding: /Users/rdeits/.julia/v0.5/DrakeVisualizer/src/lcmtypes to the python path\n"
     ]
    }
   ],
   "source": [
    "import DrakeVisualizer"
   ]
  },
  {
   "cell_type": "code",
   "execution_count": 80,
   "metadata": {
    "collapsed": false
   },
   "outputs": [
    {
     "name": "stderr",
     "output_type": "stream",
     "text": [
      "INFO: Recompiling stale cache file /Users/rdeits/.julia/lib/v0.5/DrakeVisualizer.ji for module DrakeVisualizer.\n"
     ]
    },
    {
     "name": "stdout",
     "output_type": "stream",
     "text": [
      "adding: /Users/rdeits/.julia/v0.5/DrakeVisualizer/src/lcmtypes to the python path\n"
     ]
    },
    {
     "name": "stderr",
     "output_type": "stream",
     "text": [
      "WARNING: replacing module DrakeVisualizer.\n"
     ]
    }
   ],
   "source": [
    "reload(\"DrakeVisualizer\")"
   ]
  },
  {
   "cell_type": "code",
   "execution_count": 81,
   "metadata": {
    "collapsed": false
   },
   "outputs": [
    {
     "data": {
      "text/plain": [
       "Dict{String,DrakeVisualizer.GeometryData} with 1 entry:\n",
       "  \"box\" => DrakeVisualizer.GeometryData{GeometryTypes.HyperRectangle{3,Int64},C…"
      ]
     },
     "execution_count": 81,
     "metadata": {},
     "output_type": "execute_result"
    }
   ],
   "source": [
    "box = DrakeVisualizer.HyperRectangle(Vec(0, 0, 0), Vec(1, 1, 1))\n",
    "geomdata = DrakeVisualizer.GeometryData(box, IdentityTransformation(), RGBA(0., 0, 1, 0.5))\n",
    "link = DrakeVisualizer.Link(\"box\" => geomdata)"
   ]
  },
  {
   "cell_type": "code",
   "execution_count": 82,
   "metadata": {
    "collapsed": false
   },
   "outputs": [
    {
     "data": {
      "text/plain": [
       "DrakeVisualizer.Visualizer(PyLCM.LCM(PyObject <LCM object at 0x31f859120>),DataStructures.OrderedDict{String,Dict{String,DrakeVisualizer.GeometryData}}(),DataStructures.OrderedDict{String,CoordinateTransformations.Transformation}(),DrakeVisualizer.CommandQueue(Set{String}(),Set{String}(),Set{String}()))"
      ]
     },
     "execution_count": 82,
     "metadata": {},
     "output_type": "execute_result"
    }
   ],
   "source": [
    "lcm = LCM()\n",
    "vis = DrakeVisualizer.Visualizer(lcm)"
   ]
  },
  {
   "cell_type": "code",
   "execution_count": 83,
   "metadata": {
    "collapsed": false
   },
   "outputs": [
    {
     "data": {
      "text/plain": [
       "Set(String[\"link1\"])"
      ]
     },
     "execution_count": 83,
     "metadata": {},
     "output_type": "execute_result"
    }
   ],
   "source": [
    "DrakeVisualizer.queue_load!(vis, \"link1\", link)"
   ]
  },
  {
   "cell_type": "code",
   "execution_count": 84,
   "metadata": {
    "collapsed": false
   },
   "outputs": [
    {
     "data": {
      "text/plain": [
       "DrakeVisualizer.GeometryData{GeometryTypes.HomogenousMesh{FixedSizeArrays.Point{3,Float32},GeometryTypes.Face{3,UInt32,-1},GeometryTypes.Normal{3,Float32},Void,Void,Void,Void},CoordinateTransformations.IdentityTransformation}(HomogenousMesh(\n",
       "    normals: 2248xGeometryTypes.Normal{3,Float32},     vertices: 2248xFixedSizeArrays.Point{3,Float32},     faces: 3954xGeometryTypes.Face{3,UInt32,-1}, )\n",
       ",CoordinateTransformations.IdentityTransformation(),RGBA{Float64}(0.0,0.5,1.0,0.5))"
      ]
     },
     "execution_count": 84,
     "metadata": {},
     "output_type": "execute_result"
    }
   ],
   "source": [
    "mesh = load(\"/Users/rdeits/.julia/v0.5/GeometryTypes/test/data/cat.obj\")\n",
    "meshgeom = DrakeVisualizer.GeometryData(mesh, IdentityTransformation(), RGBA(0, 0.5, 1, 0.5))"
   ]
  },
  {
   "cell_type": "code",
   "execution_count": 85,
   "metadata": {
    "collapsed": false
   },
   "outputs": [
    {
     "data": {
      "text/plain": [
       "Set(String[\"link1\",\"link2\"])"
      ]
     },
     "execution_count": 85,
     "metadata": {},
     "output_type": "execute_result"
    }
   ],
   "source": [
    "DrakeVisualizer.queue_load!(vis, \"link2\",)"
   ]
  },
  {
   "cell_type": "code",
   "execution_count": 86,
   "metadata": {
    "collapsed": false
   },
   "outputs": [
    {
     "ename": "LoadError",
     "evalue": "LoadError: KeyError: key \"link2\" not found\nwhile loading In[86], in expression starting on line 1",
     "output_type": "error",
     "traceback": [
      "LoadError: KeyError: key \"link2\" not found\nwhile loading In[86], in expression starting on line 1",
      "",
      " in getindex at /Users/rdeits/.julia/v0.5/DataStructures/src/ordered_dict.jl:350 [inlined]",
      " in (::DrakeVisualizer.##6#7{DrakeVisualizer.Visualizer})(::String) at ./<missing>:0",
      " in collect_to!(::Array{Dict{String,Any},1}, ::Base.Generator{Set{String},DrakeVisualizer.##6#7{DrakeVisualizer.Visualizer}}, ::Int64, ::Int64) at ./array.jl:340",
      " in collect_to_with_first!(::Array{Dict{String,Any},1}, ::Dict{String,Any}, ::Base.Generator{Set{String},DrakeVisualizer.##6#7{DrakeVisualizer.Visualizer}}, ::Int64) at ./array.jl:327",
      " in collect(::Base.Generator{Set{String},DrakeVisualizer.##6#7{DrakeVisualizer.Visualizer}}) at ./array.jl:308",
      " in command_data at /Users/rdeits/.julia/v0.5/DrakeVisualizer/src/json_conversions.jl:144 [inlined]",
      " in serialize(::DrakeVisualizer.Visualizer, ::DrakeVisualizer.Load, ::Set{String}) at /Users/rdeits/.julia/v0.5/DrakeVisualizer/src/json_conversions.jl:132",
      " in publish!(::DrakeVisualizer.Visualizer, ::DrakeVisualizer.Load, ::Set{String}) at /Users/rdeits/.julia/v0.5/DrakeVisualizer/src/json_conversions.jl:94",
      " in publish!(::DrakeVisualizer.Visualizer) at /Users/rdeits/.julia/v0.5/DrakeVisualizer/src/json_conversions.jl:88"
     ]
    }
   ],
   "source": [
    "DrakeVisualizer.publish!(vis)"
   ]
  },
  {
   "cell_type": "code",
   "execution_count": 72,
   "metadata": {
    "collapsed": false
   },
   "outputs": [
    {
     "data": {
      "text/plain": [
       "Set(String[\"link1\",\"link2\"])"
      ]
     },
     "execution_count": 72,
     "metadata": {},
     "output_type": "execute_result"
    }
   ],
   "source": [
    "DrakeVisualizer.queue_load!(vis, \"link2\", Dict(\"cat\" => meshgeom))"
   ]
  },
  {
   "cell_type": "code",
   "execution_count": 79,
   "metadata": {
    "collapsed": false
   },
   "outputs": [],
   "source": [
    "DrakeVisualizer.draw!(vis, \"link1\", Translation([0., 0.2, 0.3]))"
   ]
  },
  {
   "cell_type": "code",
   "execution_count": 36,
   "metadata": {
    "collapsed": false
   },
   "outputs": [
    {
     "ename": "LoadError",
     "evalue": "LoadError: InterruptException:\nwhile loading In[36], in expression starting on line 1",
     "output_type": "error",
     "traceback": [
      "LoadError: InterruptException:\nwhile loading In[36], in expression starting on line 1",
      "",
      " in #_pycall#62(::Array{Any,1}, ::Function, ::PyCall.PyObject, ::Int64, ::Vararg{Int64,N}) at /Users/rdeits/.julia/v0.5/PyCall/src/PyCall.jl:556",
      " in _pycall(::PyCall.PyObject, ::Int64, ::Vararg{Int64,N}) at /Users/rdeits/.julia/v0.5/PyCall/src/PyCall.jl:534",
      " in #pycall#65(::Array{Any,1}, ::Function, ::PyCall.PyObject, ::Type{PyCall.PyObject}, ::Int64, ::Vararg{Int64,N}) at /Users/rdeits/.julia/v0.5/PyCall/src/PyCall.jl:565",
      " in pycall(::PyCall.PyObject, ::Type{PyCall.PyObject}, ::Int64, ::Vararg{Int64,N}) at /Users/rdeits/.julia/v0.5/PyCall/src/PyCall.jl:565",
      " in publish!(::DrakeVisualizer.Visualizer, ::DrakeVisualizer.Draw, ::Set{String}) at /Users/rdeits/.julia/v0.5/DrakeVisualizer/src/json_conversions.jl:101",
      " in publish!(::DrakeVisualizer.Visualizer) at /Users/rdeits/.julia/v0.5/DrakeVisualizer/src/json_conversions.jl:91",
      " in draw!(::DrakeVisualizer.Visualizer, ::String, ::CoordinateTransformations.LinearMap{Rotations.AngleAxis{Float64}}) at /Users/rdeits/.julia/v0.5/DrakeVisualizer/src/json_conversions.jl:70",
      " in macro expansion; at ./In[36]:3 [inlined]",
      " in anonymous at ./<missing>:?"
     ]
    }
   ],
   "source": [
    "while true\n",
    "    for x in linspace(0, 2*pi)\n",
    "        DrakeVisualizer.draw!(vis, \"link1\", LinearMap(AngleAxis(x, 0, 0, 1)))\n",
    "#         sleep(0.01)\n",
    "    end\n",
    "end"
   ]
  },
  {
   "cell_type": "code",
   "execution_count": null,
   "metadata": {
    "collapsed": true
   },
   "outputs": [],
   "source": []
  }
 ],
 "metadata": {
  "kernelspec": {
   "display_name": "Julia 0.5.0",
   "language": "julia",
   "name": "julia-0.5"
  },
  "language_info": {
   "file_extension": ".jl",
   "mimetype": "application/julia",
   "name": "julia",
   "version": "0.5.0"
  }
 },
 "nbformat": 4,
 "nbformat_minor": 2
}
