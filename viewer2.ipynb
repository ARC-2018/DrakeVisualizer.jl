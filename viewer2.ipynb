{
 "cells": [
  {
   "cell_type": "code",
   "execution_count": 1,
   "metadata": {
    "collapsed": true
   },
   "outputs": [],
   "source": [
    "using GeometryTypes\n",
    "using CoordinateTransformations\n",
    "using ColorTypes\n",
    "using PyLCM"
   ]
  },
  {
   "cell_type": "code",
   "execution_count": 2,
   "metadata": {
    "collapsed": false
   },
   "outputs": [
    {
     "name": "stderr",
     "output_type": "stream",
     "text": [
      "INFO: Recompiling stale cache file /Users/rdeits/.julia/lib/v0.5/DrakeVisualizer.ji for module DrakeVisualizer.\n"
     ]
    },
    {
     "name": "stdout",
     "output_type": "stream",
     "text": [
      "adding: /Users/rdeits/.julia/v0.5/DrakeVisualizer/src/lcmtypes to the python path\n"
     ]
    }
   ],
   "source": [
    "import DrakeVisualizer"
   ]
  },
  {
   "cell_type": "code",
   "execution_count": 36,
   "metadata": {
    "collapsed": false
   },
   "outputs": [
    {
     "name": "stderr",
     "output_type": "stream",
     "text": [
      "INFO: Recompiling stale cache file /Users/rdeits/.julia/lib/v0.5/DrakeVisualizer.ji for module DrakeVisualizer.\n"
     ]
    },
    {
     "name": "stdout",
     "output_type": "stream",
     "text": [
      "adding: /Users/rdeits/.julia/v0.5/DrakeVisualizer/src/lcmtypes to the python path\n"
     ]
    },
    {
     "name": "stderr",
     "output_type": "stream",
     "text": [
      "WARNING: replacing module DrakeVisualizer.\n"
     ]
    }
   ],
   "source": [
    "reload(\"DrakeVisualizer\")"
   ]
  },
  {
   "cell_type": "code",
   "execution_count": 37,
   "metadata": {
    "collapsed": false
   },
   "outputs": [
    {
     "data": {
      "text/plain": [
       "Dict{String,DrakeVisualizer.GeometryData} with 1 entry:\n",
       "  \"box\" => DrakeVisualizer.GeometryData{GeometryTypes.HyperRectangle{3,Int64},C…"
      ]
     },
     "execution_count": 37,
     "metadata": {},
     "output_type": "execute_result"
    }
   ],
   "source": [
    "box = DrakeVisualizer.HyperRectangle(Vec(0, 0, 0), Vec(1, 1, 1))\n",
    "geomdata = DrakeVisualizer.GeometryData(box, IdentityTransformation(), RGBA(0., 0, 1, 0.5))\n",
    "link = DrakeVisualizer.Link(\"box\" => geomdata)"
   ]
  },
  {
   "cell_type": "code",
   "execution_count": 38,
   "metadata": {
    "collapsed": false
   },
   "outputs": [
    {
     "data": {
      "text/plain": [
       "DrakeVisualizer.Visualizer(PyLCM.LCM(PyObject <LCM object at 0x3248a8ed0>),DataStructures.OrderedDict{String,Dict{String,DrakeVisualizer.GeometryData}}(),DataStructures.OrderedDict{String,CoordinateTransformations.Transformation}(),DrakeVisualizer.CommandQueue(Set{String}(),Set{String}(),Set{String}()))"
      ]
     },
     "execution_count": 38,
     "metadata": {},
     "output_type": "execute_result"
    }
   ],
   "source": [
    "lcm = LCM()\n",
    "vis = DrakeVisualizer.Visualizer(lcm)"
   ]
  },
  {
   "cell_type": "code",
   "execution_count": 39,
   "metadata": {
    "collapsed": false
   },
   "outputs": [
    {
     "data": {
      "text/plain": [
       "Dict{String,DrakeVisualizer.GeometryData} with 1 entry:\n",
       "  \"box\" => DrakeVisualizer.GeometryData{GeometryTypes.HyperRectangle{3,Int64},C…"
      ]
     },
     "execution_count": 39,
     "metadata": {},
     "output_type": "execute_result"
    }
   ],
   "source": [
    "vis.links[\"link1\"] = link"
   ]
  },
  {
   "cell_type": "code",
   "execution_count": 41,
   "metadata": {
    "collapsed": false
   },
   "outputs": [
    {
     "name": "stdout",
     "output_type": "stream",
     "text": [
      "encoded = \"{\\\"data\\\":{\\\"commands\\\":[{\\\"pose\\\":{\\\"translation\\\":[1.0,2.0,3.0],\\\"quaternion\\\":[1.0,0.0,0.0,0.0]},\\\"path\\\":[\\\"link1\\\"]}]},\\\"timestamp\\\":597166215888331,\\\"type\\\":\\\"draw\\\"}\"\n",
      "msgdata = Dict{String,Any}(Pair{String,Any}(\"status\",0),Pair{String,Any}(\"data\",Dict{String,Any}(Pair{String,Any}(\"drew_paths\",Any[Any[\"link1\"]]))),Pair{String,Any}(\"timestamp\",597088769655772))\n",
      "vis.queue = DrakeVisualizer.CommandQueue(Set{String}(),Set{String}(),Set{String}())\n"
     ]
    }
   ],
   "source": [
    "DrakeVisualizer.draw!(vis, \"link1\", Translation([1., 2, 3]))"
   ]
  },
  {
   "cell_type": "code",
   "execution_count": 24,
   "metadata": {
    "collapsed": false
   },
   "outputs": [
    {
     "name": "stdout",
     "output_type": "stream",
     "text": [
      "encoded = \"{\\\"data\\\":{\\\"links\\\":[{\\\"geometries\\\":[{\\\"name\\\":\\\"box\\\",\\\"parameters\\\":{\\\"lengths\\\":[1,1,1],\\\"type\\\":\\\"box\\\"},\\\"color\\\":[0.0,0.0,1.0,0.5],\\\"pose\\\":{\\\"translation\\\":[0.5,0.5,0.5],\\\"quaternion\\\":[1.0,0.0,0.0,0.0]}}],\\\"path\\\":[\\\"link1\\\"]}]},\\\"timestamp\\\":596903422995706,\\\"type\\\":\\\"load\\\"}\"\n",
      "msgdata = Dict{String,Any}(Pair{String,Any}(\"status\",0),Pair{String,Any}(\"data\",Dict{String,Any}(Pair{String,Any}(\"loaded_paths\",Any[Any[\"link1\"]]))),Pair{String,Any}(\"timestamp\",596903422995706))\n",
      "deleting load for path: Any[\"link1\"]\n",
      "vis.queue = DrakeVisualizer.CommandQueue(Set{String}(),Set{String}(),Set{String}())\n"
     ]
    }
   ],
   "source": [
    "DrakeVisualizer.load!(vis, \"link1\", link)"
   ]
  },
  {
   "cell_type": "code",
   "execution_count": null,
   "metadata": {
    "collapsed": true
   },
   "outputs": [],
   "source": []
  }
 ],
 "metadata": {
  "kernelspec": {
   "display_name": "Julia 0.5.0",
   "language": "julia",
   "name": "julia-0.5"
  },
  "language_info": {
   "file_extension": ".jl",
   "mimetype": "application/julia",
   "name": "julia",
   "version": "0.5.0"
  }
 },
 "nbformat": 4,
 "nbformat_minor": 2
}
